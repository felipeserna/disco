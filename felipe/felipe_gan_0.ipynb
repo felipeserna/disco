{
  "nbformat": 4,
  "nbformat_minor": 0,
  "metadata": {
    "colab": {
      "name": "felipe_gan_0.ipynb",
      "provenance": [],
      "mount_file_id": "1IC-rK_WPtYdeIv6QdbNvUTuI2r1LfCam",
      "authorship_tag": "ABX9TyOT/OKSCM958Zgrq8bf/dVa",
      "include_colab_link": true
    },
    "kernelspec": {
      "name": "python3",
      "display_name": "Python 3"
    },
    "language_info": {
      "name": "python"
    },
    "accelerator": "TPU"
  },
  "cells": [
    {
      "cell_type": "markdown",
      "metadata": {
        "id": "view-in-github",
        "colab_type": "text"
      },
      "source": [
        "<a href=\"https://colab.research.google.com/github/linkjavier/disco/blob/felipe/felipe/felipe_gan_0.ipynb\" target=\"_parent\"><img src=\"https://colab.research.google.com/assets/colab-badge.svg\" alt=\"Open In Colab\"/></a>"
      ]
    },
    {
      "cell_type": "markdown",
      "metadata": {
        "id": "tDWOc-NeLPea"
      },
      "source": [
        "From book: Generative AI with Python and TensorFlow 2 By Joseph Babcock and Raghav Bali\n",
        "\n",
        "Music Generation with GANs"
      ]
    },
    {
      "cell_type": "code",
      "metadata": {
        "id": "5Idlham4UV6N"
      },
      "source": [
        "# Music Generation using GANs\n",
        "import sys\n",
        "import matplotlib.pyplot as plt\n",
        "import numpy as np\n",
        "import pickle\n",
        "import glob\n",
        "from music21 import converter, instrument, note, chord, stream\n",
        "\n",
        "from tensorflow.keras.layers import Input, Dense, Reshape, Dropout, LSTM, Bidirectional\n",
        "from tensorflow.keras.layers import BatchNormalization, Activation, ZeroPadding2D\n",
        "from tensorflow.keras.layers import LeakyReLU\n",
        "from tensorflow.keras.models import Sequential, Model\n",
        "from tensorflow.keras.optimizers import Adam\n",
        "from tensorflow.keras.utils import to_categorical"
      ],
      "execution_count": null,
      "outputs": []
    },
    {
      "cell_type": "code",
      "metadata": {
        "id": "zj_Rvoc7VUlO"
      },
      "source": [
        "!unzip '/content/drive/MyDrive/midi_dataset.zip'"
      ],
      "execution_count": null,
      "outputs": []
    },
    {
      "cell_type": "code",
      "metadata": {
        "id": "2mmMiAB2VrT8"
      },
      "source": [
        "def build_generator(latent_dim,seq_shape):\n",
        "\n",
        "  model = Sequential()\n",
        "  model.add(Dense(256, input_dim=latent_dim))\n",
        "  model.add(LeakyReLU(alpha=0.2))\n",
        "  model.add(BatchNormalization(momentum=0.8))\n",
        "  model.add(Dense(512))\n",
        "  model.add(LeakyReLU(alpha=0.2))\n",
        "  model.add(BatchNormalization(momentum=0.8))\n",
        "  model.add(Dense(1024))\n",
        "  model.add(LeakyReLU(alpha=0.2))\n",
        "  model.add(BatchNormalization(momentum=0.8))\n",
        "  model.add(Dense(np.prod(seq_shape), activation='tanh'))\n",
        "  model.add(Reshape(seq_shape))\n",
        "  model.summary()\n",
        "\n",
        "  noise = Input(shape=(latent_dim,))\n",
        "  seq = model(noise)\n",
        "\n",
        "  return Model(noise, seq)"
      ],
      "execution_count": null,
      "outputs": []
    },
    {
      "cell_type": "code",
      "metadata": {
        "id": "MXyXIdtXV3tu"
      },
      "source": [
        "def build_discriminator(seq_shape):\n",
        "\n",
        "  model = Sequential()\n",
        "  model.add(LSTM(512, input_shape=seq_shape, return_sequences=True))\n",
        "  model.add(Bidirectional(LSTM(512)))\n",
        "  model.add(Dense(512))\n",
        "  model.add(LeakyReLU(alpha=0.2))\n",
        "  model.add(Dense(256))\n",
        "  model.add(LeakyReLU(alpha=0.2))\n",
        "  model.add(Dense(1, activation='sigmoid'))\n",
        "  model.summary()\n",
        "\n",
        "  seq = Input(shape=seq_shape)\n",
        "  validity = model(seq)\n",
        "\n",
        "  return Model(seq, validity)"
      ],
      "execution_count": null,
      "outputs": []
    },
    {
      "cell_type": "code",
      "metadata": {
        "id": "58KT22aFV9k2"
      },
      "source": [
        "# Data Preparation Utility\n",
        "def prepare_sequences(notes, n_vocab):\n",
        "    \"\"\" Prepare the sequences used by the Neural Network \"\"\"\n",
        "    sequence_length = 100\n",
        "\n",
        "    # Get all pitch names\n",
        "    pitchnames = sorted(set(item for item in notes))\n",
        "\n",
        "    # Create a dictionary to map pitches to integers\n",
        "    note_to_int = dict((note, number) for number, note in enumerate(pitchnames))\n",
        "\n",
        "    network_input = []\n",
        "    network_output = []\n",
        "\n",
        "    # create input sequences and the corresponding outputs\n",
        "    for i in range(0, len(notes) - sequence_length, 1):\n",
        "        sequence_in = notes[i:i + sequence_length]\n",
        "        sequence_out = notes[i + sequence_length]\n",
        "        network_input.append([note_to_int[char] for char in sequence_in])\n",
        "        network_output.append(note_to_int[sequence_out])\n",
        "\n",
        "    n_patterns = len(network_input)\n",
        "\n",
        "    # Reshape the input into a format compatible with LSTM layers\n",
        "    network_input = np.reshape(network_input, (n_patterns, sequence_length, 1))\n",
        "    \n",
        "    # Normalize input between -1 and 1\n",
        "    network_input = (network_input - float(n_vocab)/2) / (float(n_vocab)/2)\n",
        "    network_output = to_categorical(network_output)\n",
        "\n",
        "    return (network_input, network_output)"
      ],
      "execution_count": null,
      "outputs": []
    },
    {
      "cell_type": "code",
      "metadata": {
        "id": "qUBfj2vkWNQW"
      },
      "source": [
        "# Utility to Transform Model output to MIDI\n",
        "def create_midi(prediction_output, filename):\n",
        "    \"\"\" convert the output from the prediction to notes and create a midi file\n",
        "        from the notes \"\"\"\n",
        "    offset = 0\n",
        "    output_notes = []\n",
        "\n",
        "    # create note and chord objects based on the values generated by the model\n",
        "    for item in prediction_output:\n",
        "        pattern = item[0]\n",
        "        # pattern is a chord\n",
        "        if ('.' in pattern) or pattern.isdigit():\n",
        "            notes_in_chord = pattern.split('.')\n",
        "            notes = []\n",
        "            for current_note in notes_in_chord:\n",
        "                new_note = note.Note(int(current_note))\n",
        "                new_note.storedInstrument = instrument.Piano()\n",
        "                notes.append(new_note)\n",
        "            new_chord = chord.Chord(notes)\n",
        "            new_chord.offset = offset\n",
        "            output_notes.append(new_chord)\n",
        "        # pattern is a note\n",
        "        else:\n",
        "            new_note = note.Note(pattern)\n",
        "            new_note.offset = offset\n",
        "            new_note.storedInstrument = instrument.Piano()\n",
        "            output_notes.append(new_note)\n",
        "\n",
        "        # increase offset each iteration so that notes do not stack\n",
        "        offset += 0.5\n",
        "\n",
        "    midi_stream = stream.Stream(output_notes)\n",
        "    midi_stream.write('midi', fp='{}.mid'.format(filename))"
      ],
      "execution_count": null,
      "outputs": []
    },
    {
      "cell_type": "markdown",
      "metadata": {
        "id": "QITIV48bWpz_"
      },
      "source": [
        "Utilities for Training GAN"
      ]
    },
    {
      "cell_type": "code",
      "metadata": {
        "id": "uTQwroXWWuIg"
      },
      "source": [
        "def generate(latent_dim, generator, input_notes,filename='gan_final'):\n",
        "  # Get pitch names and store in a dictionary\n",
        "  notes = input_notes\n",
        "  pitchnames = sorted(set(item for item in notes))\n",
        "  int_to_note = dict((number, note) for number, note in enumerate(pitchnames))\n",
        "\n",
        "  # Use random noise to generate sequences\n",
        "  noise = np.random.normal(0, 1, (1, latent_dim))\n",
        "  predictions = generator.predict(noise)\n",
        "\n",
        "  pred_notes = [x*242+242 for x in predictions[0]]\n",
        "  pred_notes = [int_to_note[int(x)] for x in pred_notes]\n",
        "\n",
        "  create_midi(pred_notes, filename)"
      ],
      "execution_count": null,
      "outputs": []
    },
    {
      "cell_type": "code",
      "metadata": {
        "id": "SzMWFVgzW1I_"
      },
      "source": [
        "def plot_loss(disc_loss, gen_loss):\n",
        "  plt.plot(disc_loss, c='red')\n",
        "  plt.plot(gen_loss, c='blue')\n",
        "  plt.title(\"GAN Loss per Epoch\")\n",
        "  plt.legend(['Discriminator', 'Generator'])\n",
        "  plt.xlabel('Epoch')\n",
        "  plt.ylabel('Loss')\n",
        "  plt.savefig('GAN_Loss_per_Epoch_final.png', transparent=True)\n",
        "  plt.show()\n",
        "  plt.close()"
      ],
      "execution_count": null,
      "outputs": []
    },
    {
      "cell_type": "code",
      "metadata": {
        "id": "aFBELTahW8BI"
      },
      "source": [
        "def train(latent_dim, \n",
        "          notes, \n",
        "          generator, \n",
        "          discriminator, \n",
        "          gan,\n",
        "          epochs, \n",
        "          batch_size=128, \n",
        "          sample_interval=50):\n",
        "\n",
        "  disc_loss =[]\n",
        "  gen_loss = []\n",
        "\n",
        "  n_vocab = len(set(notes))\n",
        "  X_train, y_train = prepare_sequences(notes, n_vocab)\n",
        "\n",
        "  # ground truths\n",
        "  real = np.ones((batch_size, 1))\n",
        "  fake = np.zeros((batch_size, 1))\n",
        "\n",
        "  for epoch in range(epochs):\n",
        "\n",
        "      idx = np.random.randint(0, X_train.shape[0], batch_size)\n",
        "      real_seqs = X_train[idx]\n",
        "\n",
        "      noise = np.random.normal(0, 1, (batch_size, latent_dim))\n",
        "\n",
        "      # generate a batch of new note sequences\n",
        "      gen_seqs = generator.predict(noise)\n",
        "\n",
        "      # train the discriminator\n",
        "      d_loss_real = discriminator.train_on_batch(real_seqs, real)\n",
        "      d_loss_fake = discriminator.train_on_batch(gen_seqs, fake)\n",
        "      d_loss = 0.5 * np.add(d_loss_real, d_loss_fake)\n",
        "\n",
        "\n",
        "      #  train the Generator\n",
        "      noise = np.random.normal(0, 1, (batch_size, latent_dim))\n",
        "      g_loss = gan.train_on_batch(noise, real)\n",
        "\n",
        "      # visualize progress\n",
        "      if epoch % sample_interval == 0:\n",
        "        print (\"%d [D loss: %f, acc.: %.2f%%] [G loss: %f]\" % (epoch, \n",
        "                                                               d_loss[0], \n",
        "                                                               100*d_loss[1], \n",
        "                                                               g_loss))\n",
        "        disc_loss.append(d_loss[0])\n",
        "        gen_loss.append(g_loss)\n",
        "        generate(latent_dim, generator, notes,filename='gan_epoch'+str(epoch))\n",
        "  generate(latent_dim, generator, notes)\n",
        "  plot_loss(disc_loss,gen_loss)"
      ],
      "execution_count": null,
      "outputs": []
    },
    {
      "cell_type": "markdown",
      "metadata": {
        "id": "jkWX7V3pXOf6"
      },
      "source": [
        "Prepare Generator, Discriminator and GAN Models"
      ]
    },
    {
      "cell_type": "code",
      "metadata": {
        "id": "SR9v7nwRXQhR"
      },
      "source": [
        "rows = 100\n",
        "seq_length = rows\n",
        "seq_shape = (seq_length, 1)\n",
        "latent_dim = 1000\n",
        "\n",
        "optimizer = Adam(0.0002, 0.5)\n",
        "\n",
        "# Build and compile the discriminator\n",
        "discriminator = build_discriminator(seq_shape)\n",
        "discriminator.compile(loss='binary_crossentropy', optimizer=optimizer, metrics=['accuracy'])\n",
        "\n",
        "# Build the generator\n",
        "generator = build_generator(latent_dim,seq_shape)\n",
        "\n",
        "# The generator takes noise as input and generates note sequences\n",
        "z = Input(shape=(latent_dim,))\n",
        "generated_seq = generator(z)\n",
        "\n",
        "# For the combined model we will only train the generator\n",
        "discriminator.trainable = False\n",
        "\n",
        "# The discriminator takes generated images as input and determines validity\n",
        "validity = discriminator(generated_seq)\n",
        "\n",
        "# The combined model  (stacked generator and discriminator)\n",
        "# Trains the generator to fool the discriminator\n",
        "gan = Model(z, validity)\n",
        "gan.compile(loss='binary_crossentropy', optimizer=optimizer)"
      ],
      "execution_count": null,
      "outputs": []
    },
    {
      "cell_type": "markdown",
      "metadata": {
        "id": "KrRr5DQFXrah"
      },
      "source": [
        "Prepare Dataset"
      ]
    },
    {
      "cell_type": "code",
      "metadata": {
        "id": "f3-5zpZdXsnL"
      },
      "source": [
        "from tqdm.notebook import tqdm"
      ],
      "execution_count": null,
      "outputs": []
    },
    {
      "cell_type": "code",
      "metadata": {
        "id": "uZwktqL1XyRb"
      },
      "source": [
        "def get_notes():\n",
        "    \"\"\" Get all the notes and chords from the midi files \"\"\"\n",
        "    notes = []\n",
        "\n",
        "    for file in tqdm(glob.glob(\"midi_dataset/*.mid\")):\n",
        "        midi = converter.parse(file)\n",
        "\n",
        "        print(\"Parsing %s\" % file)\n",
        "\n",
        "        notes_to_parse = None\n",
        "\n",
        "        try: # file has instrument parts\n",
        "            s2 = instrument.partitionByInstrument(midi)\n",
        "            notes_to_parse = s2.parts[0].recurse() \n",
        "        except: # file has notes in a flat structure\n",
        "            notes_to_parse = midi.flat.notes\n",
        "            \n",
        "        for element in notes_to_parse:\n",
        "            if isinstance(element, note.Note):\n",
        "                notes.append(str(element.pitch))\n",
        "            elif isinstance(element, chord.Chord):\n",
        "                notes.append('.'.join(str(n) for n in element.normalOrder))\n",
        "\n",
        "    return notes"
      ],
      "execution_count": null,
      "outputs": []
    },
    {
      "cell_type": "code",
      "metadata": {
        "id": "muEzQhPRX-2Z"
      },
      "source": [
        "# Load and convert the data\n",
        "notes = get_notes()"
      ],
      "execution_count": null,
      "outputs": []
    },
    {
      "cell_type": "markdown",
      "metadata": {
        "id": "I2veT-mdbg0b"
      },
      "source": [
        "Train the GAN"
      ]
    },
    {
      "cell_type": "code",
      "metadata": {
        "colab": {
          "base_uri": "https://localhost:8080/",
          "height": 362
        },
        "id": "5DzmRLa-bhjz",
        "outputId": "47727253-0ef9-47bb-efb0-9e55bf140edb"
      },
      "source": [
        "train(latent_dim, notes, generator, discriminator, gan,epochs=80, batch_size=64, sample_interval=20)"
      ],
      "execution_count": null,
      "outputs": [
        {
          "output_type": "stream",
          "name": "stdout",
          "text": [
            "0 [D loss: 0.324754, acc.: 90.62%] [G loss: 2.188439]\n",
            "20 [D loss: 0.374766, acc.: 85.16%] [G loss: 1.824666]\n",
            "40 [D loss: 0.242951, acc.: 89.84%] [G loss: 3.021782]\n",
            "60 [D loss: 0.364136, acc.: 86.72%] [G loss: 1.783502]\n"
          ]
        },
        {
          "output_type": "display_data",
          "data": {
            "image/png": "[encoded data removed]",
            "text/plain": [
              "<Figure size 432x288 with 1 Axes>"
            ]
          },
          "metadata": {
            "image/png": {
              "width": 385,
              "height": 277
            },
            "needs_background": "light"
          }
        }
      ]
    }
  ]
}