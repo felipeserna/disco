{
  "nbformat": 4,
  "nbformat_minor": 0,
  "metadata": {
    "colab": {
      "name": "lstm_attention.ipynb",
      "provenance": [],
      "mount_file_id": "153qacS4Z1wdaOVtyEc6-Lzw1NKYV34Qj",
      "authorship_tag": "ABX9TyPldM/pmTFdwicNhJJrZrm/",
      "include_colab_link": true
    },
    "kernelspec": {
      "name": "python3",
      "display_name": "Python 3"
    },
    "language_info": {
      "name": "python"
    },
    "widgets": {
      "application/vnd.jupyter.widget-state+json": {
        "16f781934248423693b478f8652d159b": {
          "model_module": "@jupyter-widgets/controls",
          "model_name": "HBoxModel",
          "model_module_version": "1.5.0",
          "state": {
            "_view_name": "HBoxView",
            "_dom_classes": [],
            "_model_name": "HBoxModel",
            "_view_module": "@jupyter-widgets/controls",
            "_model_module_version": "1.5.0",
            "_view_count": null,
            "_view_module_version": "1.5.0",
            "box_style": "",
            "layout": "IPY_MODEL_6f90041003b04e9289ffd3ed2c74aa36",
            "_model_module": "@jupyter-widgets/controls",
            "children": [
              "IPY_MODEL_3455fe2823f641f8908736569bbf9094",
              "IPY_MODEL_8e1302302ddf4419a0e21f6c3adb4fd3",
              "IPY_MODEL_0b4a4f8466dd4eb9bf4838e767fcc7f7"
            ]
          }
        },
        "6f90041003b04e9289ffd3ed2c74aa36": {
          "model_module": "@jupyter-widgets/base",
          "model_name": "LayoutModel",
          "model_module_version": "1.2.0",
          "state": {
            "_view_name": "LayoutView",
            "grid_template_rows": null,
            "right": null,
            "justify_content": null,
            "_view_module": "@jupyter-widgets/base",
            "overflow": null,
            "_model_module_version": "1.2.0",
            "_view_count": null,
            "flex_flow": null,
            "width": null,
            "min_width": null,
            "border": null,
            "align_items": null,
            "bottom": null,
            "_model_module": "@jupyter-widgets/base",
            "top": null,
            "grid_column": null,
            "overflow_y": null,
            "overflow_x": null,
            "grid_auto_flow": null,
            "grid_area": null,
            "grid_template_columns": null,
            "flex": null,
            "_model_name": "LayoutModel",
            "justify_items": null,
            "grid_row": null,
            "max_height": null,
            "align_content": null,
            "visibility": null,
            "align_self": null,
            "height": null,
            "min_height": null,
            "padding": null,
            "grid_auto_rows": null,
            "grid_gap": null,
            "max_width": null,
            "order": null,
            "_view_module_version": "1.2.0",
            "grid_template_areas": null,
            "object_position": null,
            "object_fit": null,
            "grid_auto_columns": null,
            "margin": null,
            "display": null,
            "left": null
          }
        },
        "3455fe2823f641f8908736569bbf9094": {
          "model_module": "@jupyter-widgets/controls",
          "model_name": "HTMLModel",
          "model_module_version": "1.5.0",
          "state": {
            "_view_name": "HTMLView",
            "style": "IPY_MODEL_d1e5e817c42a4ab1aa1f647a2cc92e86",
            "_dom_classes": [],
            "description": "",
            "_model_name": "HTMLModel",
            "placeholder": "​",
            "_view_module": "@jupyter-widgets/controls",
            "_model_module_version": "1.5.0",
            "value": "100%",
            "_view_count": null,
            "_view_module_version": "1.5.0",
            "description_tooltip": null,
            "_model_module": "@jupyter-widgets/controls",
            "layout": "IPY_MODEL_d993844dd1ec4eb987afd13448337839"
          }
        },
        "8e1302302ddf4419a0e21f6c3adb4fd3": {
          "model_module": "@jupyter-widgets/controls",
          "model_name": "FloatProgressModel",
          "model_module_version": "1.5.0",
          "state": {
            "_view_name": "ProgressView",
            "style": "IPY_MODEL_d5fba6d8c9564ed1b479fc54c98e3860",
            "_dom_classes": [],
            "description": "",
            "_model_name": "FloatProgressModel",
            "bar_style": "success",
            "max": 2,
            "_view_module": "@jupyter-widgets/controls",
            "_model_module_version": "1.5.0",
            "value": 2,
            "_view_count": null,
            "_view_module_version": "1.5.0",
            "orientation": "horizontal",
            "min": 0,
            "description_tooltip": null,
            "_model_module": "@jupyter-widgets/controls",
            "layout": "IPY_MODEL_bfcec5a0d6fa4843a9ec8d7167942f10"
          }
        },
        "0b4a4f8466dd4eb9bf4838e767fcc7f7": {
          "model_module": "@jupyter-widgets/controls",
          "model_name": "HTMLModel",
          "model_module_version": "1.5.0",
          "state": {
            "_view_name": "HTMLView",
            "style": "IPY_MODEL_71f7d42f55bc4807a548297c440cd2b3",
            "_dom_classes": [],
            "description": "",
            "_model_name": "HTMLModel",
            "placeholder": "​",
            "_view_module": "@jupyter-widgets/controls",
            "_model_module_version": "1.5.0",
            "value": " 2/2 [01:44&lt;00:00, 52.65s/it]",
            "_view_count": null,
            "_view_module_version": "1.5.0",
            "description_tooltip": null,
            "_model_module": "@jupyter-widgets/controls",
            "layout": "IPY_MODEL_b3ced0bd93bd42c68a0719c1e199bad3"
          }
        },
        "d1e5e817c42a4ab1aa1f647a2cc92e86": {
          "model_module": "@jupyter-widgets/controls",
          "model_name": "DescriptionStyleModel",
          "model_module_version": "1.5.0",
          "state": {
            "_view_name": "StyleView",
            "_model_name": "DescriptionStyleModel",
            "description_width": "",
            "_view_module": "@jupyter-widgets/base",
            "_model_module_version": "1.5.0",
            "_view_count": null,
            "_view_module_version": "1.2.0",
            "_model_module": "@jupyter-widgets/controls"
          }
        },
        "d993844dd1ec4eb987afd13448337839": {
          "model_module": "@jupyter-widgets/base",
          "model_name": "LayoutModel",
          "model_module_version": "1.2.0",
          "state": {
            "_view_name": "LayoutView",
            "grid_template_rows": null,
            "right": null,
            "justify_content": null,
            "_view_module": "@jupyter-widgets/base",
            "overflow": null,
            "_model_module_version": "1.2.0",
            "_view_count": null,
            "flex_flow": null,
            "width": null,
            "min_width": null,
            "border": null,
            "align_items": null,
            "bottom": null,
            "_model_module": "@jupyter-widgets/base",
            "top": null,
            "grid_column": null,
            "overflow_y": null,
            "overflow_x": null,
            "grid_auto_flow": null,
            "grid_area": null,
            "grid_template_columns": null,
            "flex": null,
            "_model_name": "LayoutModel",
            "justify_items": null,
            "grid_row": null,
            "max_height": null,
            "align_content": null,
            "visibility": null,
            "align_self": null,
            "height": null,
            "min_height": null,
            "padding": null,
            "grid_auto_rows": null,
            "grid_gap": null,
            "max_width": null,
            "order": null,
            "_view_module_version": "1.2.0",
            "grid_template_areas": null,
            "object_position": null,
            "object_fit": null,
            "grid_auto_columns": null,
            "margin": null,
            "display": null,
            "left": null
          }
        },
        "d5fba6d8c9564ed1b479fc54c98e3860": {
          "model_module": "@jupyter-widgets/controls",
          "model_name": "ProgressStyleModel",
          "model_module_version": "1.5.0",
          "state": {
            "_view_name": "StyleView",
            "_model_name": "ProgressStyleModel",
            "description_width": "",
            "_view_module": "@jupyter-widgets/base",
            "_model_module_version": "1.5.0",
            "_view_count": null,
            "_view_module_version": "1.2.0",
            "bar_color": null,
            "_model_module": "@jupyter-widgets/controls"
          }
        },
        "bfcec5a0d6fa4843a9ec8d7167942f10": {
          "model_module": "@jupyter-widgets/base",
          "model_name": "LayoutModel",
          "model_module_version": "1.2.0",
          "state": {
            "_view_name": "LayoutView",
            "grid_template_rows": null,
            "right": null,
            "justify_content": null,
            "_view_module": "@jupyter-widgets/base",
            "overflow": null,
            "_model_module_version": "1.2.0",
            "_view_count": null,
            "flex_flow": null,
            "width": null,
            "min_width": null,
            "border": null,
            "align_items": null,
            "bottom": null,
            "_model_module": "@jupyter-widgets/base",
            "top": null,
            "grid_column": null,
            "overflow_y": null,
            "overflow_x": null,
            "grid_auto_flow": null,
            "grid_area": null,
            "grid_template_columns": null,
            "flex": null,
            "_model_name": "LayoutModel",
            "justify_items": null,
            "grid_row": null,
            "max_height": null,
            "align_content": null,
            "visibility": null,
            "align_self": null,
            "height": null,
            "min_height": null,
            "padding": null,
            "grid_auto_rows": null,
            "grid_gap": null,
            "max_width": null,
            "order": null,
            "_view_module_version": "1.2.0",
            "grid_template_areas": null,
            "object_position": null,
            "object_fit": null,
            "grid_auto_columns": null,
            "margin": null,
            "display": null,
            "left": null
          }
        },
        "71f7d42f55bc4807a548297c440cd2b3": {
          "model_module": "@jupyter-widgets/controls",
          "model_name": "DescriptionStyleModel",
          "model_module_version": "1.5.0",
          "state": {
            "_view_name": "StyleView",
            "_model_name": "DescriptionStyleModel",
            "description_width": "",
            "_view_module": "@jupyter-widgets/base",
            "_model_module_version": "1.5.0",
            "_view_count": null,
            "_view_module_version": "1.2.0",
            "_model_module": "@jupyter-widgets/controls"
          }
        },
        "b3ced0bd93bd42c68a0719c1e199bad3": {
          "model_module": "@jupyter-widgets/base",
          "model_name": "LayoutModel",
          "model_module_version": "1.2.0",
          "state": {
            "_view_name": "LayoutView",
            "grid_template_rows": null,
            "right": null,
            "justify_content": null,
            "_view_module": "@jupyter-widgets/base",
            "overflow": null,
            "_model_module_version": "1.2.0",
            "_view_count": null,
            "flex_flow": null,
            "width": null,
            "min_width": null,
            "border": null,
            "align_items": null,
            "bottom": null,
            "_model_module": "@jupyter-widgets/base",
            "top": null,
            "grid_column": null,
            "overflow_y": null,
            "overflow_x": null,
            "grid_auto_flow": null,
            "grid_area": null,
            "grid_template_columns": null,
            "flex": null,
            "_model_name": "LayoutModel",
            "justify_items": null,
            "grid_row": null,
            "max_height": null,
            "align_content": null,
            "visibility": null,
            "align_self": null,
            "height": null,
            "min_height": null,
            "padding": null,
            "grid_auto_rows": null,
            "grid_gap": null,
            "max_width": null,
            "order": null,
            "_view_module_version": "1.2.0",
            "grid_template_areas": null,
            "object_position": null,
            "object_fit": null,
            "grid_auto_columns": null,
            "margin": null,
            "display": null,
            "left": null
          }
        },
        "505febd1cddc4645b642004fe7e545fb": {
          "model_module": "@jupyter-widgets/controls",
          "model_name": "HBoxModel",
          "model_module_version": "1.5.0",
          "state": {
            "_view_name": "HBoxView",
            "_dom_classes": [],
            "_model_name": "HBoxModel",
            "_view_module": "@jupyter-widgets/controls",
            "_model_module_version": "1.5.0",
            "_view_count": null,
            "_view_module_version": "1.5.0",
            "box_style": "",
            "layout": "IPY_MODEL_51377e54ee8e4180ae7d9813dd3a53f4",
            "_model_module": "@jupyter-widgets/controls",
            "children": [
              "IPY_MODEL_53b30a86a5e04379be94d0d1368c4e4c",
              "IPY_MODEL_6969bb5f7e9d413fb778421c6f8306c3",
              "IPY_MODEL_469ad52da91a44ce90072deee59321ea"
            ]
          }
        },
        "51377e54ee8e4180ae7d9813dd3a53f4": {
          "model_module": "@jupyter-widgets/base",
          "model_name": "LayoutModel",
          "model_module_version": "1.2.0",
          "state": {
            "_view_name": "LayoutView",
            "grid_template_rows": null,
            "right": null,
            "justify_content": null,
            "_view_module": "@jupyter-widgets/base",
            "overflow": null,
            "_model_module_version": "1.2.0",
            "_view_count": null,
            "flex_flow": null,
            "width": null,
            "min_width": null,
            "border": null,
            "align_items": null,
            "bottom": null,
            "_model_module": "@jupyter-widgets/base",
            "top": null,
            "grid_column": null,
            "overflow_y": null,
            "overflow_x": null,
            "grid_auto_flow": null,
            "grid_area": null,
            "grid_template_columns": null,
            "flex": null,
            "_model_name": "LayoutModel",
            "justify_items": null,
            "grid_row": null,
            "max_height": null,
            "align_content": null,
            "visibility": null,
            "align_self": null,
            "height": null,
            "min_height": null,
            "padding": null,
            "grid_auto_rows": null,
            "grid_gap": null,
            "max_width": null,
            "order": null,
            "_view_module_version": "1.2.0",
            "grid_template_areas": null,
            "object_position": null,
            "object_fit": null,
            "grid_auto_columns": null,
            "margin": null,
            "display": null,
            "left": null
          }
        },
        "53b30a86a5e04379be94d0d1368c4e4c": {
          "model_module": "@jupyter-widgets/controls",
          "model_name": "HTMLModel",
          "model_module_version": "1.5.0",
          "state": {
            "_view_name": "HTMLView",
            "style": "IPY_MODEL_f36fee4bbeaa469b84177ef18ac1742b",
            "_dom_classes": [],
            "description": "",
            "_model_name": "HTMLModel",
            "placeholder": "​",
            "_view_module": "@jupyter-widgets/controls",
            "_model_module_version": "1.5.0",
            "value": "",
            "_view_count": null,
            "_view_module_version": "1.5.0",
            "description_tooltip": null,
            "_model_module": "@jupyter-widgets/controls",
            "layout": "IPY_MODEL_62599f1e4f4945ec86eb24b885f36f49"
          }
        },
        "6969bb5f7e9d413fb778421c6f8306c3": {
          "model_module": "@jupyter-widgets/controls",
          "model_name": "FloatProgressModel",
          "model_module_version": "1.5.0",
          "state": {
            "_view_name": "ProgressView",
            "style": "IPY_MODEL_22405a34a64a48aeae0ecee94005cc13",
            "_dom_classes": [],
            "description": "",
            "_model_name": "FloatProgressModel",
            "bar_style": "success",
            "max": 1,
            "_view_module": "@jupyter-widgets/controls",
            "_model_module_version": "1.5.0",
            "value": 1,
            "_view_count": null,
            "_view_module_version": "1.5.0",
            "orientation": "horizontal",
            "min": 0,
            "description_tooltip": null,
            "_model_module": "@jupyter-widgets/controls",
            "layout": "IPY_MODEL_4d5fbaea40db47d589784204b5c0ed32"
          }
        },
        "469ad52da91a44ce90072deee59321ea": {
          "model_module": "@jupyter-widgets/controls",
          "model_name": "HTMLModel",
          "model_module_version": "1.5.0",
          "state": {
            "_view_name": "HTMLView",
            "style": "IPY_MODEL_c2d8d9f6839446efa41fc6f006de3ebf",
            "_dom_classes": [],
            "description": "",
            "_model_name": "HTMLModel",
            "placeholder": "​",
            "_view_module": "@jupyter-widgets/controls",
            "_model_module_version": "1.5.0",
            "value": " 295/? [07:54&lt;00:00,  1.52it/s]",
            "_view_count": null,
            "_view_module_version": "1.5.0",
            "description_tooltip": null,
            "_model_module": "@jupyter-widgets/controls",
            "layout": "IPY_MODEL_42720a935a914da5b03a514868fbd8d9"
          }
        },
        "f36fee4bbeaa469b84177ef18ac1742b": {
          "model_module": "@jupyter-widgets/controls",
          "model_name": "DescriptionStyleModel",
          "model_module_version": "1.5.0",
          "state": {
            "_view_name": "StyleView",
            "_model_name": "DescriptionStyleModel",
            "description_width": "",
            "_view_module": "@jupyter-widgets/base",
            "_model_module_version": "1.5.0",
            "_view_count": null,
            "_view_module_version": "1.2.0",
            "_model_module": "@jupyter-widgets/controls"
          }
        },
        "62599f1e4f4945ec86eb24b885f36f49": {
          "model_module": "@jupyter-widgets/base",
          "model_name": "LayoutModel",
          "model_module_version": "1.2.0",
          "state": {
            "_view_name": "LayoutView",
            "grid_template_rows": null,
            "right": null,
            "justify_content": null,
            "_view_module": "@jupyter-widgets/base",
            "overflow": null,
            "_model_module_version": "1.2.0",
            "_view_count": null,
            "flex_flow": null,
            "width": null,
            "min_width": null,
            "border": null,
            "align_items": null,
            "bottom": null,
            "_model_module": "@jupyter-widgets/base",
            "top": null,
            "grid_column": null,
            "overflow_y": null,
            "overflow_x": null,
            "grid_auto_flow": null,
            "grid_area": null,
            "grid_template_columns": null,
            "flex": null,
            "_model_name": "LayoutModel",
            "justify_items": null,
            "grid_row": null,
            "max_height": null,
            "align_content": null,
            "visibility": null,
            "align_self": null,
            "height": null,
            "min_height": null,
            "padding": null,
            "grid_auto_rows": null,
            "grid_gap": null,
            "max_width": null,
            "order": null,
            "_view_module_version": "1.2.0",
            "grid_template_areas": null,
            "object_position": null,
            "object_fit": null,
            "grid_auto_columns": null,
            "margin": null,
            "display": null,
            "left": null
          }
        },
        "22405a34a64a48aeae0ecee94005cc13": {
          "model_module": "@jupyter-widgets/controls",
          "model_name": "ProgressStyleModel",
          "model_module_version": "1.5.0",
          "state": {
            "_view_name": "StyleView",
            "_model_name": "ProgressStyleModel",
            "description_width": "",
            "_view_module": "@jupyter-widgets/base",
            "_model_module_version": "1.5.0",
            "_view_count": null,
            "_view_module_version": "1.2.0",
            "bar_color": null,
            "_model_module": "@jupyter-widgets/controls"
          }
        },
        "4d5fbaea40db47d589784204b5c0ed32": {
          "model_module": "@jupyter-widgets/base",
          "model_name": "LayoutModel",
          "model_module_version": "1.2.0",
          "state": {
            "_view_name": "LayoutView",
            "grid_template_rows": null,
            "right": null,
            "justify_content": null,
            "_view_module": "@jupyter-widgets/base",
            "overflow": null,
            "_model_module_version": "1.2.0",
            "_view_count": null,
            "flex_flow": null,
            "width": "20px",
            "min_width": null,
            "border": null,
            "align_items": null,
            "bottom": null,
            "_model_module": "@jupyter-widgets/base",
            "top": null,
            "grid_column": null,
            "overflow_y": null,
            "overflow_x": null,
            "grid_auto_flow": null,
            "grid_area": null,
            "grid_template_columns": null,
            "flex": null,
            "_model_name": "LayoutModel",
            "justify_items": null,
            "grid_row": null,
            "max_height": null,
            "align_content": null,
            "visibility": null,
            "align_self": null,
            "height": null,
            "min_height": null,
            "padding": null,
            "grid_auto_rows": null,
            "grid_gap": null,
            "max_width": null,
            "order": null,
            "_view_module_version": "1.2.0",
            "grid_template_areas": null,
            "object_position": null,
            "object_fit": null,
            "grid_auto_columns": null,
            "margin": null,
            "display": null,
            "left": null
          }
        },
        "c2d8d9f6839446efa41fc6f006de3ebf": {
          "model_module": "@jupyter-widgets/controls",
          "model_name": "DescriptionStyleModel",
          "model_module_version": "1.5.0",
          "state": {
            "_view_name": "StyleView",
            "_model_name": "DescriptionStyleModel",
            "description_width": "",
            "_view_module": "@jupyter-widgets/base",
            "_model_module_version": "1.5.0",
            "_view_count": null,
            "_view_module_version": "1.2.0",
            "_model_module": "@jupyter-widgets/controls"
          }
        },
        "42720a935a914da5b03a514868fbd8d9": {
          "model_module": "@jupyter-widgets/base",
          "model_name": "LayoutModel",
          "model_module_version": "1.2.0",
          "state": {
            "_view_name": "LayoutView",
            "grid_template_rows": null,
            "right": null,
            "justify_content": null,
            "_view_module": "@jupyter-widgets/base",
            "overflow": null,
            "_model_module_version": "1.2.0",
            "_view_count": null,
            "flex_flow": null,
            "width": null,
            "min_width": null,
            "border": null,
            "align_items": null,
            "bottom": null,
            "_model_module": "@jupyter-widgets/base",
            "top": null,
            "grid_column": null,
            "overflow_y": null,
            "overflow_x": null,
            "grid_auto_flow": null,
            "grid_area": null,
            "grid_template_columns": null,
            "flex": null,
            "_model_name": "LayoutModel",
            "justify_items": null,
            "grid_row": null,
            "max_height": null,
            "align_content": null,
            "visibility": null,
            "align_self": null,
            "height": null,
            "min_height": null,
            "padding": null,
            "grid_auto_rows": null,
            "grid_gap": null,
            "max_width": null,
            "order": null,
            "_view_module_version": "1.2.0",
            "grid_template_areas": null,
            "object_position": null,
            "object_fit": null,
            "grid_auto_columns": null,
            "margin": null,
            "display": null,
            "left": null
          }
        },
        "7311ec9aedc74e7a92c696743585fcd6": {
          "model_module": "@jupyter-widgets/controls",
          "model_name": "HBoxModel",
          "model_module_version": "1.5.0",
          "state": {
            "_view_name": "HBoxView",
            "_dom_classes": [],
            "_model_name": "HBoxModel",
            "_view_module": "@jupyter-widgets/controls",
            "_model_module_version": "1.5.0",
            "_view_count": null,
            "_view_module_version": "1.5.0",
            "box_style": "",
            "layout": "IPY_MODEL_afedbd2cdae2440ba98ab7fd20f7f4ff",
            "_model_module": "@jupyter-widgets/controls",
            "children": [
              "IPY_MODEL_c200f49a23c8488ca7c15f54b813a2eb",
              "IPY_MODEL_156bcfc0430546859f48ae2c22da675a",
              "IPY_MODEL_424f1565d6aa449c9a56069f6fbad6fd"
            ]
          }
        },
        "afedbd2cdae2440ba98ab7fd20f7f4ff": {
          "model_module": "@jupyter-widgets/base",
          "model_name": "LayoutModel",
          "model_module_version": "1.2.0",
          "state": {
            "_view_name": "LayoutView",
            "grid_template_rows": null,
            "right": null,
            "justify_content": null,
            "_view_module": "@jupyter-widgets/base",
            "overflow": null,
            "_model_module_version": "1.2.0",
            "_view_count": null,
            "flex_flow": null,
            "width": null,
            "min_width": null,
            "border": null,
            "align_items": null,
            "bottom": null,
            "_model_module": "@jupyter-widgets/base",
            "top": null,
            "grid_column": null,
            "overflow_y": null,
            "overflow_x": null,
            "grid_auto_flow": null,
            "grid_area": null,
            "grid_template_columns": null,
            "flex": null,
            "_model_name": "LayoutModel",
            "justify_items": null,
            "grid_row": null,
            "max_height": null,
            "align_content": null,
            "visibility": null,
            "align_self": null,
            "height": null,
            "min_height": null,
            "padding": null,
            "grid_auto_rows": null,
            "grid_gap": null,
            "max_width": null,
            "order": null,
            "_view_module_version": "1.2.0",
            "grid_template_areas": null,
            "object_position": null,
            "object_fit": null,
            "grid_auto_columns": null,
            "margin": null,
            "display": null,
            "left": null
          }
        },
        "c200f49a23c8488ca7c15f54b813a2eb": {
          "model_module": "@jupyter-widgets/controls",
          "model_name": "HTMLModel",
          "model_module_version": "1.5.0",
          "state": {
            "_view_name": "HTMLView",
            "style": "IPY_MODEL_47a385d2811e4528bc8d49d23c24e42e",
            "_dom_classes": [],
            "description": "",
            "_model_name": "HTMLModel",
            "placeholder": "​",
            "_view_module": "@jupyter-widgets/controls",
            "_model_module_version": "1.5.0",
            "value": "",
            "_view_count": null,
            "_view_module_version": "1.5.0",
            "description_tooltip": null,
            "_model_module": "@jupyter-widgets/controls",
            "layout": "IPY_MODEL_1efdea9ff88d493bbf9a1ed616fe2a59"
          }
        },
        "156bcfc0430546859f48ae2c22da675a": {
          "model_module": "@jupyter-widgets/controls",
          "model_name": "FloatProgressModel",
          "model_module_version": "1.5.0",
          "state": {
            "_view_name": "ProgressView",
            "style": "IPY_MODEL_867b98142fa24d32bea529bd1a3f3f17",
            "_dom_classes": [],
            "description": "",
            "_model_name": "FloatProgressModel",
            "bar_style": "success",
            "max": 1,
            "_view_module": "@jupyter-widgets/controls",
            "_model_module_version": "1.5.0",
            "value": 1,
            "_view_count": null,
            "_view_module_version": "1.5.0",
            "orientation": "horizontal",
            "min": 0,
            "description_tooltip": null,
            "_model_module": "@jupyter-widgets/controls",
            "layout": "IPY_MODEL_26f94308bc6843668233fa81359acb80"
          }
        },
        "424f1565d6aa449c9a56069f6fbad6fd": {
          "model_module": "@jupyter-widgets/controls",
          "model_name": "HTMLModel",
          "model_module_version": "1.5.0",
          "state": {
            "_view_name": "HTMLView",
            "style": "IPY_MODEL_016dc099fe9a4fe7ac5fbbf27c7f5b89",
            "_dom_classes": [],
            "description": "",
            "_model_name": "HTMLModel",
            "placeholder": "​",
            "_view_module": "@jupyter-widgets/controls",
            "_model_module_version": "1.5.0",
            "value": " 295/? [00:00&lt;00:00, 4445.43it/s]",
            "_view_count": null,
            "_view_module_version": "1.5.0",
            "description_tooltip": null,
            "_model_module": "@jupyter-widgets/controls",
            "layout": "IPY_MODEL_5acf10cf98664196a06880384b01ca46"
          }
        },
        "47a385d2811e4528bc8d49d23c24e42e": {
          "model_module": "@jupyter-widgets/controls",
          "model_name": "DescriptionStyleModel",
          "model_module_version": "1.5.0",
          "state": {
            "_view_name": "StyleView",
            "_model_name": "DescriptionStyleModel",
            "description_width": "",
            "_view_module": "@jupyter-widgets/base",
            "_model_module_version": "1.5.0",
            "_view_count": null,
            "_view_module_version": "1.2.0",
            "_model_module": "@jupyter-widgets/controls"
          }
        },
        "1efdea9ff88d493bbf9a1ed616fe2a59": {
          "model_module": "@jupyter-widgets/base",
          "model_name": "LayoutModel",
          "model_module_version": "1.2.0",
          "state": {
            "_view_name": "LayoutView",
            "grid_template_rows": null,
            "right": null,
            "justify_content": null,
            "_view_module": "@jupyter-widgets/base",
            "overflow": null,
            "_model_module_version": "1.2.0",
            "_view_count": null,
            "flex_flow": null,
            "width": null,
            "min_width": null,
            "border": null,
            "align_items": null,
            "bottom": null,
            "_model_module": "@jupyter-widgets/base",
            "top": null,
            "grid_column": null,
            "overflow_y": null,
            "overflow_x": null,
            "grid_auto_flow": null,
            "grid_area": null,
            "grid_template_columns": null,
            "flex": null,
            "_model_name": "LayoutModel",
            "justify_items": null,
            "grid_row": null,
            "max_height": null,
            "align_content": null,
            "visibility": null,
            "align_self": null,
            "height": null,
            "min_height": null,
            "padding": null,
            "grid_auto_rows": null,
            "grid_gap": null,
            "max_width": null,
            "order": null,
            "_view_module_version": "1.2.0",
            "grid_template_areas": null,
            "object_position": null,
            "object_fit": null,
            "grid_auto_columns": null,
            "margin": null,
            "display": null,
            "left": null
          }
        },
        "867b98142fa24d32bea529bd1a3f3f17": {
          "model_module": "@jupyter-widgets/controls",
          "model_name": "ProgressStyleModel",
          "model_module_version": "1.5.0",
          "state": {
            "_view_name": "StyleView",
            "_model_name": "ProgressStyleModel",
            "description_width": "",
            "_view_module": "@jupyter-widgets/base",
            "_model_module_version": "1.5.0",
            "_view_count": null,
            "_view_module_version": "1.2.0",
            "bar_color": null,
            "_model_module": "@jupyter-widgets/controls"
          }
        },
        "26f94308bc6843668233fa81359acb80": {
          "model_module": "@jupyter-widgets/base",
          "model_name": "LayoutModel",
          "model_module_version": "1.2.0",
          "state": {
            "_view_name": "LayoutView",
            "grid_template_rows": null,
            "right": null,
            "justify_content": null,
            "_view_module": "@jupyter-widgets/base",
            "overflow": null,
            "_model_module_version": "1.2.0",
            "_view_count": null,
            "flex_flow": null,
            "width": "20px",
            "min_width": null,
            "border": null,
            "align_items": null,
            "bottom": null,
            "_model_module": "@jupyter-widgets/base",
            "top": null,
            "grid_column": null,
            "overflow_y": null,
            "overflow_x": null,
            "grid_auto_flow": null,
            "grid_area": null,
            "grid_template_columns": null,
            "flex": null,
            "_model_name": "LayoutModel",
            "justify_items": null,
            "grid_row": null,
            "max_height": null,
            "align_content": null,
            "visibility": null,
            "align_self": null,
            "height": null,
            "min_height": null,
            "padding": null,
            "grid_auto_rows": null,
            "grid_gap": null,
            "max_width": null,
            "order": null,
            "_view_module_version": "1.2.0",
            "grid_template_areas": null,
            "object_position": null,
            "object_fit": null,
            "grid_auto_columns": null,
            "margin": null,
            "display": null,
            "left": null
          }
        },
        "016dc099fe9a4fe7ac5fbbf27c7f5b89": {
          "model_module": "@jupyter-widgets/controls",
          "model_name": "DescriptionStyleModel",
          "model_module_version": "1.5.0",
          "state": {
            "_view_name": "StyleView",
            "_model_name": "DescriptionStyleModel",
            "description_width": "",
            "_view_module": "@jupyter-widgets/base",
            "_model_module_version": "1.5.0",
            "_view_count": null,
            "_view_module_version": "1.2.0",
            "_model_module": "@jupyter-widgets/controls"
          }
        },
        "5acf10cf98664196a06880384b01ca46": {
          "model_module": "@jupyter-widgets/base",
          "model_name": "LayoutModel",
          "model_module_version": "1.2.0",
          "state": {
            "_view_name": "LayoutView",
            "grid_template_rows": null,
            "right": null,
            "justify_content": null,
            "_view_module": "@jupyter-widgets/base",
            "overflow": null,
            "_model_module_version": "1.2.0",
            "_view_count": null,
            "flex_flow": null,
            "width": null,
            "min_width": null,
            "border": null,
            "align_items": null,
            "bottom": null,
            "_model_module": "@jupyter-widgets/base",
            "top": null,
            "grid_column": null,
            "overflow_y": null,
            "overflow_x": null,
            "grid_auto_flow": null,
            "grid_area": null,
            "grid_template_columns": null,
            "flex": null,
            "_model_name": "LayoutModel",
            "justify_items": null,
            "grid_row": null,
            "max_height": null,
            "align_content": null,
            "visibility": null,
            "align_self": null,
            "height": null,
            "min_height": null,
            "padding": null,
            "grid_auto_rows": null,
            "grid_gap": null,
            "max_width": null,
            "order": null,
            "_view_module_version": "1.2.0",
            "grid_template_areas": null,
            "object_position": null,
            "object_fit": null,
            "grid_auto_columns": null,
            "margin": null,
            "display": null,
            "left": null
          }
        },
        "effa70bcd6e14416a01d2544dcb0bbed": {
          "model_module": "@jupyter-widgets/controls",
          "model_name": "HBoxModel",
          "model_module_version": "1.5.0",
          "state": {
            "_view_name": "HBoxView",
            "_dom_classes": [],
            "_model_name": "HBoxModel",
            "_view_module": "@jupyter-widgets/controls",
            "_model_module_version": "1.5.0",
            "_view_count": null,
            "_view_module_version": "1.5.0",
            "box_style": "",
            "layout": "IPY_MODEL_37378ee0f2614154994c83e234bcd4fb",
            "_model_module": "@jupyter-widgets/controls",
            "children": [
              "IPY_MODEL_2e9c57c818f54a07aaed171e2e7355fc",
              "IPY_MODEL_39e465b9ce7b4db6a2f87dc0e9c56808",
              "IPY_MODEL_7c4c070a828e456eb8fb580063759a23"
            ]
          }
        },
        "37378ee0f2614154994c83e234bcd4fb": {
          "model_module": "@jupyter-widgets/base",
          "model_name": "LayoutModel",
          "model_module_version": "1.2.0",
          "state": {
            "_view_name": "LayoutView",
            "grid_template_rows": null,
            "right": null,
            "justify_content": null,
            "_view_module": "@jupyter-widgets/base",
            "overflow": null,
            "_model_module_version": "1.2.0",
            "_view_count": null,
            "flex_flow": null,
            "width": null,
            "min_width": null,
            "border": null,
            "align_items": null,
            "bottom": null,
            "_model_module": "@jupyter-widgets/base",
            "top": null,
            "grid_column": null,
            "overflow_y": null,
            "overflow_x": null,
            "grid_auto_flow": null,
            "grid_area": null,
            "grid_template_columns": null,
            "flex": null,
            "_model_name": "LayoutModel",
            "justify_items": null,
            "grid_row": null,
            "max_height": null,
            "align_content": null,
            "visibility": null,
            "align_self": null,
            "height": null,
            "min_height": null,
            "padding": null,
            "grid_auto_rows": null,
            "grid_gap": null,
            "max_width": null,
            "order": null,
            "_view_module_version": "1.2.0",
            "grid_template_areas": null,
            "object_position": null,
            "object_fit": null,
            "grid_auto_columns": null,
            "margin": null,
            "display": null,
            "left": null
          }
        },
        "2e9c57c818f54a07aaed171e2e7355fc": {
          "model_module": "@jupyter-widgets/controls",
          "model_name": "HTMLModel",
          "model_module_version": "1.5.0",
          "state": {
            "_view_name": "HTMLView",
            "style": "IPY_MODEL_a1e4d46c958d4e259ec440a8e4eac11b",
            "_dom_classes": [],
            "description": "",
            "_model_name": "HTMLModel",
            "placeholder": "​",
            "_view_module": "@jupyter-widgets/controls",
            "_model_module_version": "1.5.0",
            "value": "",
            "_view_count": null,
            "_view_module_version": "1.5.0",
            "description_tooltip": null,
            "_model_module": "@jupyter-widgets/controls",
            "layout": "IPY_MODEL_6eeb8be86bd94cf19b2a36dbff1f96f2"
          }
        },
        "39e465b9ce7b4db6a2f87dc0e9c56808": {
          "model_module": "@jupyter-widgets/controls",
          "model_name": "FloatProgressModel",
          "model_module_version": "1.5.0",
          "state": {
            "_view_name": "ProgressView",
            "style": "IPY_MODEL_08f83fdb07c64dee9c2f5ff72989140b",
            "_dom_classes": [],
            "description": "",
            "_model_name": "FloatProgressModel",
            "bar_style": "success",
            "max": 1,
            "_view_module": "@jupyter-widgets/controls",
            "_model_module_version": "1.5.0",
            "value": 1,
            "_view_count": null,
            "_view_module_version": "1.5.0",
            "orientation": "horizontal",
            "min": 0,
            "description_tooltip": null,
            "_model_module": "@jupyter-widgets/controls",
            "layout": "IPY_MODEL_eba8c42d9d184e4f847a8ada45dbf8dc"
          }
        },
        "7c4c070a828e456eb8fb580063759a23": {
          "model_module": "@jupyter-widgets/controls",
          "model_name": "HTMLModel",
          "model_module_version": "1.5.0",
          "state": {
            "_view_name": "HTMLView",
            "style": "IPY_MODEL_92bcf3f9f6c64e78aabdd62534b51a66",
            "_dom_classes": [],
            "description": "",
            "_model_name": "HTMLModel",
            "placeholder": "​",
            "_view_module": "@jupyter-widgets/controls",
            "_model_module_version": "1.5.0",
            "value": " 295/? [00:00&lt;00:00, 3925.07it/s]",
            "_view_count": null,
            "_view_module_version": "1.5.0",
            "description_tooltip": null,
            "_model_module": "@jupyter-widgets/controls",
            "layout": "IPY_MODEL_ef71a56eebfc498792867ab360dfd5b2"
          }
        },
        "a1e4d46c958d4e259ec440a8e4eac11b": {
          "model_module": "@jupyter-widgets/controls",
          "model_name": "DescriptionStyleModel",
          "model_module_version": "1.5.0",
          "state": {
            "_view_name": "StyleView",
            "_model_name": "DescriptionStyleModel",
            "description_width": "",
            "_view_module": "@jupyter-widgets/base",
            "_model_module_version": "1.5.0",
            "_view_count": null,
            "_view_module_version": "1.2.0",
            "_model_module": "@jupyter-widgets/controls"
          }
        },
        "6eeb8be86bd94cf19b2a36dbff1f96f2": {
          "model_module": "@jupyter-widgets/base",
          "model_name": "LayoutModel",
          "model_module_version": "1.2.0",
          "state": {
            "_view_name": "LayoutView",
            "grid_template_rows": null,
            "right": null,
            "justify_content": null,
            "_view_module": "@jupyter-widgets/base",
            "overflow": null,
            "_model_module_version": "1.2.0",
            "_view_count": null,
            "flex_flow": null,
            "width": null,
            "min_width": null,
            "border": null,
            "align_items": null,
            "bottom": null,
            "_model_module": "@jupyter-widgets/base",
            "top": null,
            "grid_column": null,
            "overflow_y": null,
            "overflow_x": null,
            "grid_auto_flow": null,
            "grid_area": null,
            "grid_template_columns": null,
            "flex": null,
            "_model_name": "LayoutModel",
            "justify_items": null,
            "grid_row": null,
            "max_height": null,
            "align_content": null,
            "visibility": null,
            "align_self": null,
            "height": null,
            "min_height": null,
            "padding": null,
            "grid_auto_rows": null,
            "grid_gap": null,
            "max_width": null,
            "order": null,
            "_view_module_version": "1.2.0",
            "grid_template_areas": null,
            "object_position": null,
            "object_fit": null,
            "grid_auto_columns": null,
            "margin": null,
            "display": null,
            "left": null
          }
        },
        "08f83fdb07c64dee9c2f5ff72989140b": {
          "model_module": "@jupyter-widgets/controls",
          "model_name": "ProgressStyleModel",
          "model_module_version": "1.5.0",
          "state": {
            "_view_name": "StyleView",
            "_model_name": "ProgressStyleModel",
            "description_width": "",
            "_view_module": "@jupyter-widgets/base",
            "_model_module_version": "1.5.0",
            "_view_count": null,
            "_view_module_version": "1.2.0",
            "bar_color": null,
            "_model_module": "@jupyter-widgets/controls"
          }
        },
        "eba8c42d9d184e4f847a8ada45dbf8dc": {
          "model_module": "@jupyter-widgets/base",
          "model_name": "LayoutModel",
          "model_module_version": "1.2.0",
          "state": {
            "_view_name": "LayoutView",
            "grid_template_rows": null,
            "right": null,
            "justify_content": null,
            "_view_module": "@jupyter-widgets/base",
            "overflow": null,
            "_model_module_version": "1.2.0",
            "_view_count": null,
            "flex_flow": null,
            "width": "20px",
            "min_width": null,
            "border": null,
            "align_items": null,
            "bottom": null,
            "_model_module": "@jupyter-widgets/base",
            "top": null,
            "grid_column": null,
            "overflow_y": null,
            "overflow_x": null,
            "grid_auto_flow": null,
            "grid_area": null,
            "grid_template_columns": null,
            "flex": null,
            "_model_name": "LayoutModel",
            "justify_items": null,
            "grid_row": null,
            "max_height": null,
            "align_content": null,
            "visibility": null,
            "align_self": null,
            "height": null,
            "min_height": null,
            "padding": null,
            "grid_auto_rows": null,
            "grid_gap": null,
            "max_width": null,
            "order": null,
            "_view_module_version": "1.2.0",
            "grid_template_areas": null,
            "object_position": null,
            "object_fit": null,
            "grid_auto_columns": null,
            "margin": null,
            "display": null,
            "left": null
          }
        },
        "92bcf3f9f6c64e78aabdd62534b51a66": {
          "model_module": "@jupyter-widgets/controls",
          "model_name": "DescriptionStyleModel",
          "model_module_version": "1.5.0",
          "state": {
            "_view_name": "StyleView",
            "_model_name": "DescriptionStyleModel",
            "description_width": "",
            "_view_module": "@jupyter-widgets/base",
            "_model_module_version": "1.5.0",
            "_view_count": null,
            "_view_module_version": "1.2.0",
            "_model_module": "@jupyter-widgets/controls"
          }
        },
        "ef71a56eebfc498792867ab360dfd5b2": {
          "model_module": "@jupyter-widgets/base",
          "model_name": "LayoutModel",
          "model_module_version": "1.2.0",
          "state": {
            "_view_name": "LayoutView",
            "grid_template_rows": null,
            "right": null,
            "justify_content": null,
            "_view_module": "@jupyter-widgets/base",
            "overflow": null,
            "_model_module_version": "1.2.0",
            "_view_count": null,
            "flex_flow": null,
            "width": null,
            "min_width": null,
            "border": null,
            "align_items": null,
            "bottom": null,
            "_model_module": "@jupyter-widgets/base",
            "top": null,
            "grid_column": null,
            "overflow_y": null,
            "overflow_x": null,
            "grid_auto_flow": null,
            "grid_area": null,
            "grid_template_columns": null,
            "flex": null,
            "_model_name": "LayoutModel",
            "justify_items": null,
            "grid_row": null,
            "max_height": null,
            "align_content": null,
            "visibility": null,
            "align_self": null,
            "height": null,
            "min_height": null,
            "padding": null,
            "grid_auto_rows": null,
            "grid_gap": null,
            "max_width": null,
            "order": null,
            "_view_module_version": "1.2.0",
            "grid_template_areas": null,
            "object_position": null,
            "object_fit": null,
            "grid_auto_columns": null,
            "margin": null,
            "display": null,
            "left": null
          }
        }
      }
    }
  },
  "cells": [
    {
      "cell_type": "markdown",
      "metadata": {
        "id": "view-in-github",
        "colab_type": "text"
      },
      "source": [
        "<a href=\"https://colab.research.google.com/github/linkjavier/disco/blob/felipe/models/lstm_attention.ipynb\" target=\"_parent\"><img src=\"https://colab.research.google.com/assets/colab-badge.svg\" alt=\"Open In Colab\"/></a>"
      ]
    },
    {
      "cell_type": "markdown",
      "metadata": {
        "id": "SiJl3UY_qD_4"
      },
      "source": [
        "From book: Generative AI with Python and TensorFlow 2 By Joseph Babcock and Raghav Bali\n",
        "\n",
        "LSTM-Attention Model for Music Generation"
      ]
    },
    {
      "cell_type": "code",
      "metadata": {
        "id": "1kby2lkxp7Xr"
      },
      "source": [
        "import os\n",
        "import pickle\n",
        "import numpy as np\n",
        "from music21 import note, chord, corpus, converter, stream, instrument\n",
        "import glob\n",
        "from tensorflow.keras.utils import to_categorical\n",
        "from tqdm.notebook import tqdm"
      ],
      "execution_count": 1,
      "outputs": []
    },
    {
      "cell_type": "code",
      "metadata": {
        "id": "tS337V8xqLbE"
      },
      "source": [
        "from tensorflow.keras.callbacks import ModelCheckpoint, EarlyStopping\n",
        "from tensorflow.keras.layers import *\n",
        "import tensorflow.keras.backend as K \n",
        "from tensorflow.keras.models import Model\n",
        "from tensorflow.keras.optimizers import Adam\n",
        "import matplotlib.pyplot as plt"
      ],
      "execution_count": 2,
      "outputs": []
    },
    {
      "cell_type": "code",
      "metadata": {
        "id": "sxqU2yD4qNub"
      },
      "source": [
        "\"\"\"\n",
        "Run this code if you have not saved \"until_179\" and \"180_to_295\"\n",
        "into a folder named \"pickle_folder\" in your Google Drive.\n",
        "This is to save time and RAM in future runs.\n",
        "\"\"\"\n",
        "!unzip '/content/drive/MyDrive/classical_music_midi_295.zip'"
      ],
      "execution_count": null,
      "outputs": []
    },
    {
      "cell_type": "code",
      "metadata": {
        "id": "XN3PhW8dqVr0"
      },
      "source": [
        "\"\"\"\n",
        "Run this code if you have not saved \"until_179\"\n",
        "into a folder named \"pickle_folder\" in your Google Drive.\n",
        "This is to save time and RAM in future runs.\n",
        "\"\"\"\n",
        "\n",
        "data_dir = 'classical_music_midi_295'\n",
        "\n",
        "# list of files\n",
        "midi_list = os.listdir(data_dir)\n",
        "\n",
        "# Load and make list of stream objects\n",
        "original_scores = []\n",
        "for midi in tqdm(midi_list[:180]):\n",
        "    score = converter.parse(os.path.join(data_dir,midi))\n",
        "    original_scores.append(score)\n",
        "\n",
        "# print(\"original_scores\", original_scores)"
      ],
      "execution_count": null,
      "outputs": []
    },
    {
      "cell_type": "code",
      "metadata": {
        "id": "b2_ONL3Pqb4r"
      },
      "source": [
        "\"\"\"\n",
        "Run this code if you have not saved \"until_179\"\n",
        "into a folder named \"pickle_folder\" in your Google Drive.\n",
        "This is to save time and RAM in future runs.\n",
        "\"\"\"\n",
        "store_folder = 'parsed_data'\n",
        "\n",
        "if not os.path.exists(store_folder):\n",
        "    os.mkdir(store_folder)\n",
        "\n",
        "# Merge notes into chords\n",
        "original_scores = [midi.chordify() for midi in tqdm(original_scores)]\n",
        "# print(\"original_scores\", original_scores)\n",
        "\n",
        "with open(os.path.join(store_folder, 'until_179'), 'wb') as f:\n",
        "    pickle.dump(original_scores, f)"
      ],
      "execution_count": null,
      "outputs": []
    },
    {
      "cell_type": "code",
      "metadata": {
        "id": "285UpiPdY0ms"
      },
      "source": [
        "\"\"\"\n",
        "Run this code if you have not saved \"180_to_295\"\n",
        "into a folder named \"pickle_folder\" in your Google Drive.\n",
        "This is to save time and RAM in future runs.\n",
        "\"\"\"\n",
        "data_dir = 'classical_music_midi_295'\n",
        "\n",
        "# list of files\n",
        "midi_list = os.listdir(data_dir)\n",
        "\n",
        "# Load and make list of stream objects\n",
        "original_scores = []\n",
        "for midi in tqdm(midi_list[180:295]):\n",
        "    score = converter.parse(os.path.join(data_dir,midi))\n",
        "    original_scores.append(score)\n",
        "\n",
        "# print(\"original_scores\", original_scores)"
      ],
      "execution_count": null,
      "outputs": []
    },
    {
      "cell_type": "code",
      "metadata": {
        "id": "vGMa5g1fY2km"
      },
      "source": [
        "\"\"\"\n",
        "Run this code if you have not saved \"180_to_295\"\n",
        "into a folder named \"pickle_folder\" in your Google Drive.\n",
        "This is to save time and RAM in future runs.\n",
        "\"\"\"\n",
        "store_folder = 'parsed_data'\n",
        "\n",
        "if not os.path.exists(store_folder):\n",
        "    os.mkdir(store_folder)\n",
        "\n",
        "# Merge notes into chords\n",
        "original_scores = [midi.chordify() for midi in tqdm(original_scores)]\n",
        "# print(\"original_scores\", original_scores)\n",
        "\n",
        "with open(os.path.join(store_folder, '180_to_295'), 'wb') as f:\n",
        "    pickle.dump(original_scores, f)"
      ],
      "execution_count": null,
      "outputs": []
    },
    {
      "cell_type": "code",
      "metadata": {
        "id": "u9CEjocjTDq3",
        "colab": {
          "base_uri": "https://localhost:8080/",
          "height": 103,
          "referenced_widgets": [
            "16f781934248423693b478f8652d159b",
            "6f90041003b04e9289ffd3ed2c74aa36",
            "3455fe2823f641f8908736569bbf9094",
            "8e1302302ddf4419a0e21f6c3adb4fd3",
            "0b4a4f8466dd4eb9bf4838e767fcc7f7",
            "d1e5e817c42a4ab1aa1f647a2cc92e86",
            "d993844dd1ec4eb987afd13448337839",
            "d5fba6d8c9564ed1b479fc54c98e3860",
            "bfcec5a0d6fa4843a9ec8d7167942f10",
            "71f7d42f55bc4807a548297c440cd2b3",
            "b3ced0bd93bd42c68a0719c1e199bad3"
          ]
        },
        "outputId": "7a5cfc07-9e04-4ee1-a796-1aa452c2fefe"
      },
      "source": [
        "def piken():\n",
        "  \"\"\"\n",
        "  Save time and RAM consumption.\n",
        "  Returns: original scores from dataset\n",
        "  \"\"\"\n",
        "  original_scores = [] \n",
        "  path = 'drive/MyDrive/pickle_folder'\n",
        "  midi_list = os.listdir(path)\n",
        "  for file in tqdm(midi_list):\n",
        "    score = open('{}/{}'.format(path, file),'rb')\n",
        "    scores = pickle.load(score)\n",
        "    original_scores += scores\n",
        "  return original_scores\n",
        "\n",
        "original_scores = piken()\n",
        "print(original_scores)\n",
        "print(len(original_scores))"
      ],
      "execution_count": null,
      "outputs": [
        {
          "output_type": "display_data",
          "data": {
            "application/vnd.jupyter.widget-view+json": {
              "model_id": "16f781934248423693b478f8652d159b",
              "version_minor": 0,
              "version_major": 2
            },
            "text/plain": [
              "  0%|          | 0/2 [00:00<?, ?it/s]"
            ]
          },
          "metadata": {}
        },
        {
          "output_type": "stream",
          "name": "stdout",
          "text": [
            "[<music21.stream.Part 140337914779024>, <music21.stream.Part 140337902891152>, <music21.stream.Part 140337875819728>, <music21.stream.Part 140338151318736>, <music21.stream.Part 140338366804112>, <music21.stream.Part 140338105062800>, <music21.stream.Part 140337819864400>, <music21.stream.Part 140337818903056>, <music21.stream.Part 140337804869904>, <music21.stream.Part 140337795106640>, <music21.stream.Part 140337772722384>, <music21.stream.Part 140337768741520>, <music21.stream.Part 140337749806992>, <music21.stream.Part 140337743641552>, <music21.stream.Part 140337718179856>, <music21.stream.Part 140337689329936>, <music21.stream.Part 140337687242256>, <music21.stream.Part 140337687114768>, <music21.stream.Part 140337682088272>, <music21.stream.Part 140337682506960>, <music21.stream.Part 140337655477648>, <music21.stream.Part 140337657595600>, <music21.stream.Part 140337618648528>, <music21.stream.Part 140337606901456>, <music21.stream.Part 140337563127056>, <music21.stream.Part 140337555738192>, <music21.stream.Part 140337555109264>, <music21.stream.Part 140337532992912>, <music21.stream.Part 140337517788624>, <music21.stream.Part 140337511246864>, <music21.stream.Part 140337507268048>, <music21.stream.Part 140337478141008>, <music21.stream.Part 140337474992976>, <music21.stream.Part 140337607575760>, <music21.stream.Part 140337493599568>, <music21.stream.Part 140337474836496>, <music21.stream.Part 140337392983632>, <music21.stream.Part 140337391275216>, <music21.stream.Part 140337391272848>, <music21.stream.Part 140337391273616>, <music21.stream.Part 140337332437584>, <music21.stream.Part 140337330288848>, <music21.stream.Part 140337313879056>, <music21.stream.Part 140337253078480>, <music21.stream.Part 140337223549200>, <music21.stream.Part 140337214267792>, <music21.stream.Part 140337214267664>, <music21.stream.Part 140337157844688>, <music21.stream.Part 140337156803600>, <music21.stream.Part 140337153103760>, <music21.stream.Part 140337139361168>, <music21.stream.Part 140337153105232>, <music21.stream.Part 140337091006096>, <music21.stream.Part 140337077780112>, <music21.stream.Part 140337073610192>, <music21.stream.Part 140337139360720>, <music21.stream.Part 140337024186448>, <music21.stream.Part 140337024184528>, <music21.stream.Part 140336943556688>, <music21.stream.Part 140336941111376>, <music21.stream.Part 140336920144208>, <music21.stream.Part 140336912602192>, <music21.stream.Part 140337195695568>, <music21.stream.Part 140336834802832>, <music21.stream.Part 140336912601680>, <music21.stream.Part 140336753579728>, <music21.stream.Part 140336737362576>, <music21.stream.Part 140336753198544>, <music21.stream.Part 140336719956944>, <music21.stream.Part 140336714086288>, <music21.stream.Part 140336712785232>, <music21.stream.Part 140336692639248>, <music21.stream.Part 140336712739408>, <music21.stream.Part 140336667800272>, <music21.stream.Part 140336606835920>, <music21.stream.Part 140336605194384>, <music21.stream.Part 140336588865232>, <music21.stream.Part 140336587382352>, <music21.stream.Part 140336568467984>, <music21.stream.Part 140336553342608>, <music21.stream.Part 140336568470736>, <music21.stream.Part 140336519462992>, <music21.stream.Part 140336515489872>, <music21.stream.Part 140336501426960>, <music21.stream.Part 140336491807440>, <music21.stream.Part 140336478955600>, <music21.stream.Part 140336501444496>, <music21.stream.Part 140336478954832>, <music21.stream.Part 140336420414160>, <music21.stream.Part 140336420454352>, <music21.stream.Part 140336420452112>, <music21.stream.Part 140336445113552>, <music21.stream.Part 140336372646864>, <music21.stream.Part 140336397422736>, <music21.stream.Part 140336370012944>, <music21.stream.Part 140336338422352>, <music21.stream.Part 140336341534032>, <music21.stream.Part 140336307271568>, <music21.stream.Part 140336300830224>, <music21.stream.Part 140336272126864>, <music21.stream.Part 140336253997264>, <music21.stream.Part 140336253339088>, <music21.stream.Part 140336212574160>, <music21.stream.Part 140336210858576>, <music21.stream.Part 140336203824656>, <music21.stream.Part 140336203823568>, <music21.stream.Part 140336750029328>, <music21.stream.Part 140336116744656>, <music21.stream.Part 140336117094224>, <music21.stream.Part 140336069436240>, <music21.stream.Part 140336164918288>, <music21.stream.Part 140336018929616>, <music21.stream.Part 140336016244176>, <music21.stream.Part 140335992628240>, <music21.stream.Part 140335990684496>, <music21.stream.Part 140335957985616>, <music21.stream.Part 140335955276688>, <music21.stream.Part 140335946044112>, <music21.stream.Part 140335944131664>, <music21.stream.Part 140335930752080>, <music21.stream.Part 140335928128912>, <music21.stream.Part 140335917886480>, <music21.stream.Part 140335914519952>, <music21.stream.Part 140335895340496>, <music21.stream.Part 140335840227920>, <music21.stream.Part 140335833009808>, <music21.stream.Part 140335817212240>, <music21.stream.Part 140335821517264>, <music21.stream.Part 140335803080976>, <music21.stream.Part 140335797471888>, <music21.stream.Part 140335797729936>, <music21.stream.Part 140335744807760>, <music21.stream.Part 140335739170000>, <music21.stream.Part 140335704273680>, <music21.stream.Part 140335704275536>, <music21.stream.Part 140335653706768>, <music21.stream.Part 140335652053840>, <music21.stream.Part 140335597548048>, <music21.stream.Part 140335592605456>, <music21.stream.Part 140335577886928>, <music21.stream.Part 140335573648208>, <music21.stream.Part 140335538587024>, <music21.stream.Part 140335536328976>, <music21.stream.Part 140335536330832>, <music21.stream.Part 140335480628688>, <music21.stream.Part 140335535940112>, <music21.stream.Part 140335463918864>, <music21.stream.Part 140335536330960>, <music21.stream.Part 140335427904976>, <music21.stream.Part 140335407765008>, <music21.stream.Part 140335408105104>, <music21.stream.Part 140335358966352>, <music21.stream.Part 140335408105744>, <music21.stream.Part 140335344138320>, <music21.stream.Part 140335326360528>, <music21.stream.Part 140335879042320>, <music21.stream.Part 140335698806096>, <music21.stream.Part 140335336126608>, <music21.stream.Part 140335316950992>, <music21.stream.Part 140335312662352>, <music21.stream.Part 140335313104208>, <music21.stream.Part 140335285413584>, <music21.stream.Part 140335291001744>, <music21.stream.Part 140335263449744>, <music21.stream.Part 140335263410064>, <music21.stream.Part 140335261219536>, <music21.stream.Part 140335251214160>, <music21.stream.Part 140335221792656>, <music21.stream.Part 140335214804944>, <music21.stream.Part 140335190852688>, <music21.stream.Part 140335187879248>, <music21.stream.Part 140335179899856>, <music21.stream.Part 140335179902480>, <music21.stream.Part 140335179899024>, <music21.stream.Part 140335098739472>, <music21.stream.Part 140335098820368>, <music21.stream.Part 140335090981392>, <music21.stream.Part 140335079533648>, <music21.stream.Part 140335065677200>, <music21.stream.Part 140335050095312>, <music21.stream.Part 139932294340688>, <music21.stream.Part 139932343068624>, <music21.stream.Part 139932116981904>, <music21.stream.Part 139932114148880>, <music21.stream.Part 139932114075088>, <music21.stream.Part 139932099441808>, <music21.stream.Part 139932051575056>, <music21.stream.Part 139932051577808>, <music21.stream.Part 139932423200656>, <music21.stream.Part 139932235436624>, <music21.stream.Part 139932152957072>, <music21.stream.Part 139932169314896>, <music21.stream.Part 139932162970320>, <music21.stream.Part 139932136555280>, <music21.stream.Part 139931942821648>, <music21.stream.Part 139931898926864>, <music21.stream.Part 139931898847696>, <music21.stream.Part 139931876858256>, <music21.stream.Part 139931854703568>, <music21.stream.Part 139931876764688>, <music21.stream.Part 139931838417872>, <music21.stream.Part 139931775520912>, <music21.stream.Part 139931760332752>, <music21.stream.Part 139931713312016>, <music21.stream.Part 139931711762640>, <music21.stream.Part 139931697876176>, <music21.stream.Part 139931682168336>, <music21.stream.Part 139931682166032>, <music21.stream.Part 139931641796560>, <music21.stream.Part 139931636489872>, <music21.stream.Part 139931603214928>, <music21.stream.Part 139931593228496>, <music21.stream.Part 139931581142032>, <music21.stream.Part 139931581099984>, <music21.stream.Part 139931636487888>, <music21.stream.Part 139931443361616>, <music21.stream.Part 139931445126544>, <music21.stream.Part 139931428813072>, <music21.stream.Part 139931425873104>, <music21.stream.Part 139931415930576>, <music21.stream.Part 139931411912528>, <music21.stream.Part 139931365784848>, <music21.stream.Part 139931344633232>, <music21.stream.Part 139931344631696>, <music21.stream.Part 139931344632144>, <music21.stream.Part 139931344629904>, <music21.stream.Part 139931249122384>, <music21.stream.Part 139931227702544>, <music21.stream.Part 139931172635152>, <music21.stream.Part 139931166016784>, <music21.stream.Part 139931145144720>, <music21.stream.Part 139931128615440>, <music21.stream.Part 139931092389264>, <music21.stream.Part 139931077537616>, <music21.stream.Part 139931078083216>, <music21.stream.Part 139931092309136>, <music21.stream.Part 139931046723088>, <music21.stream.Part 139931018192272>, <music21.stream.Part 139931018190928>, <music21.stream.Part 139930964092752>, <music21.stream.Part 139930952661008>, <music21.stream.Part 139930909463760>, <music21.stream.Part 139930908604048>, <music21.stream.Part 139930952659472>, <music21.stream.Part 139930888612432>, <music21.stream.Part 139930873300752>, <music21.stream.Part 139930857801360>, <music21.stream.Part 139930842765712>, <music21.stream.Part 139930840998288>, <music21.stream.Part 139930787165968>, <music21.stream.Part 139930840698640>, <music21.stream.Part 139930840025424>, <music21.stream.Part 139931216362640>, <music21.stream.Part 139930873299024>, <music21.stream.Part 139930717702864>, <music21.stream.Part 139930715804880>, <music21.stream.Part 139930694582096>, <music21.stream.Part 139930680748560>, <music21.stream.Part 139930675006736>, <music21.stream.Part 139930669255824>, <music21.stream.Part 139930643004496>, <music21.stream.Part 139930609348496>, <music21.stream.Part 139930604266832>, <music21.stream.Part 139930602032272>, <music21.stream.Part 139930599062224>, <music21.stream.Part 139930583321104>, <music21.stream.Part 139930581801616>, <music21.stream.Part 139930564826768>, <music21.stream.Part 139930550360080>, <music21.stream.Part 139930550300240>, <music21.stream.Part 139930407170384>, <music21.stream.Part 139930405844432>, <music21.stream.Part 139930407544784>, <music21.stream.Part 139930388689744>, <music21.stream.Part 139930338606288>, <music21.stream.Part 139930330654608>, <music21.stream.Part 139930301169872>, <music21.stream.Part 139930298178832>, <music21.stream.Part 139930296747728>, <music21.stream.Part 139930283153040>, <music21.stream.Part 139930281486032>, <music21.stream.Part 139930296783696>, <music21.stream.Part 139930250747408>, <music21.stream.Part 139930247422288>, <music21.stream.Part 139930225848784>, <music21.stream.Part 139930219595152>, <music21.stream.Part 139930217303248>, <music21.stream.Part 139930198384272>, <music21.stream.Part 139930195747280>, <music21.stream.Part 139930174765456>, <music21.stream.Part 139930172555728>, <music21.stream.Part 139930146131600>, <music21.stream.Part 139930139046992>, <music21.stream.Part 139930128951504>, <music21.stream.Part 139930116717392>]\n",
            "295\n"
          ]
        }
      ]
    },
    {
      "cell_type": "code",
      "metadata": {
        "colab": {
          "base_uri": "https://localhost:8080/",
          "height": 49,
          "referenced_widgets": [
            "505febd1cddc4645b642004fe7e545fb",
            "51377e54ee8e4180ae7d9813dd3a53f4",
            "53b30a86a5e04379be94d0d1368c4e4c",
            "6969bb5f7e9d413fb778421c6f8306c3",
            "469ad52da91a44ce90072deee59321ea",
            "f36fee4bbeaa469b84177ef18ac1742b",
            "62599f1e4f4945ec86eb24b885f36f49",
            "22405a34a64a48aeae0ecee94005cc13",
            "4d5fbaea40db47d589784204b5c0ed32",
            "c2d8d9f6839446efa41fc6f006de3ebf",
            "42720a935a914da5b03a514868fbd8d9"
          ]
        },
        "id": "ocRmkNRRqgoL",
        "outputId": "09f92ac8-3bb1-484d-e147-d14382d18173"
      },
      "source": [
        "# Extract chords, durations, and keys\n",
        "original_chords = [[] for _ in original_scores]\n",
        "original_durations = [[] for _ in original_scores]\n",
        "original_keys = []\n",
        "\n",
        "for i, midi in tqdm(enumerate(original_scores)):\n",
        "    original_keys.append(str(midi.analyze('key')))\n",
        "    for element in midi:\n",
        "        if type(element) is note.Note:\n",
        "            original_chords[i].append(element.pitch)\n",
        "            original_durations[i].append(element.duration.quarterLength)\n",
        "        elif type(element) is chord.Chord:\n",
        "            original_chords[i].append('.'.join(str(n) for n in element.pitches))\n",
        "            original_durations[i].append(element.duration.quarterLength)\n",
        "\n",
        "#print(\"original_chords\", original_chords)\n",
        "#print(\"original_durations\", original_durations)\n",
        "#print(\"original_keys\", original_keys)"
      ],
      "execution_count": null,
      "outputs": [
        {
          "output_type": "display_data",
          "data": {
            "application/vnd.jupyter.widget-view+json": {
              "model_id": "505febd1cddc4645b642004fe7e545fb",
              "version_minor": 0,
              "version_major": 2
            },
            "text/plain": [
              "0it [00:00, ?it/s]"
            ]
          },
          "metadata": {}
        }
      ]
    },
    {
      "cell_type": "code",
      "metadata": {
        "id": "nHvrPxwFqjxb",
        "colab": {
          "base_uri": "https://localhost:8080/",
          "height": 81,
          "referenced_widgets": [
            "7311ec9aedc74e7a92c696743585fcd6",
            "afedbd2cdae2440ba98ab7fd20f7f4ff",
            "c200f49a23c8488ca7c15f54b813a2eb",
            "156bcfc0430546859f48ae2c22da675a",
            "424f1565d6aa449c9a56069f6fbad6fd",
            "47a385d2811e4528bc8d49d23c24e42e",
            "1efdea9ff88d493bbf9a1ed616fe2a59",
            "867b98142fa24d32bea529bd1a3f3f17",
            "26f94308bc6843668233fa81359acb80",
            "016dc099fe9a4fe7ac5fbbf27c7f5b89",
            "5acf10cf98664196a06880384b01ca46",
            "effa70bcd6e14416a01d2544dcb0bbed",
            "37378ee0f2614154994c83e234bcd4fb",
            "2e9c57c818f54a07aaed171e2e7355fc",
            "39e465b9ce7b4db6a2f87dc0e9c56808",
            "7c4c070a828e456eb8fb580063759a23",
            "a1e4d46c958d4e259ec440a8e4eac11b",
            "6eeb8be86bd94cf19b2a36dbff1f96f2",
            "08f83fdb07c64dee9c2f5ff72989140b",
            "eba8c42d9d184e4f847a8ada45dbf8dc",
            "92bcf3f9f6c64e78aabdd62534b51a66",
            "ef71a56eebfc498792867ab360dfd5b2"
          ]
        },
        "outputId": "1eb86867-735c-4731-9577-dca17b8636da"
      },
      "source": [
        "# Lists of chords and durations from songs in C major\n",
        "major_chords = [c for (c, k) in tqdm(zip(original_chords, original_keys)) if (k == 'C major')]\n",
        "major_durations = [c for (c, k) in tqdm(zip(original_durations, original_keys)) if (k == 'C major')]\n",
        "# print(\"major_chords\", major_chords)\n",
        "# print(len(major_chords))\n",
        "# print(\"major_durations\", major_durations)\n",
        "# print(len(major_durations))"
      ],
      "execution_count": null,
      "outputs": [
        {
          "output_type": "display_data",
          "data": {
            "application/vnd.jupyter.widget-view+json": {
              "model_id": "7311ec9aedc74e7a92c696743585fcd6",
              "version_minor": 0,
              "version_major": 2
            },
            "text/plain": [
              "0it [00:00, ?it/s]"
            ]
          },
          "metadata": {}
        },
        {
          "output_type": "display_data",
          "data": {
            "application/vnd.jupyter.widget-view+json": {
              "model_id": "effa70bcd6e14416a01d2544dcb0bbed",
              "version_minor": 0,
              "version_major": 2
            },
            "text/plain": [
              "0it [00:00, ?it/s]"
            ]
          },
          "metadata": {}
        }
      ]
    },
    {
      "cell_type": "code",
      "metadata": {
        "id": "KA_qjgvFqm5c"
      },
      "source": [
        "def get_distinct(elements):\n",
        "    # Get all pitch names\n",
        "    element_names = sorted(set(elements))\n",
        "    n_elements = len(element_names)\n",
        "    return (element_names, n_elements)\n",
        "\n",
        "def create_lookups(element_names):\n",
        "    # notes and durations to integers and vice versa\n",
        "    element_to_int = dict((element, number) for number, element in enumerate(element_names))\n",
        "    int_to_element = dict((number, element) for number, element in enumerate(element_names))\n",
        "\n",
        "    return (element_to_int, int_to_element)"
      ],
      "execution_count": null,
      "outputs": []
    },
    {
      "cell_type": "code",
      "metadata": {
        "id": "EG0wxjaDqsrc"
      },
      "source": [
        "store_folder = 'parsed_data'\n",
        "\n",
        "if not os.path.exists(store_folder):\n",
        "    os.mkdir(store_folder)\n",
        "\n",
        "# sets of notes and durations\n",
        "note_names, n_notes = get_distinct([n for chord in major_chords for n in chord])\n",
        "duration_names, n_durations = get_distinct([d for dur in major_durations for d in dur])\n",
        "distincts = [note_names, n_notes, duration_names, n_durations]\n",
        "\n",
        "with open(os.path.join(store_folder, 'distincts'), 'wb') as f:\n",
        "    pickle.dump(distincts, f)\n",
        "\n",
        "# print(\"note_names\", note_names)\n",
        "#print(len(note_names))\n",
        "# print(\"n_notes\", n_notes)\n",
        "#print(len(n_notes))\n",
        "# print(\"duration_names\", duration_names)\n",
        "#print(len(duration_names))\n",
        "# print(\"n_durations\", n_durations)\n",
        "#print(len(n_durations))"
      ],
      "execution_count": null,
      "outputs": []
    },
    {
      "cell_type": "code",
      "metadata": {
        "id": "zyINEKfMqxD8"
      },
      "source": [
        "note_to_int, int_to_note = create_lookups(note_names)\n",
        "duration_to_int, int_to_duration = create_lookups(duration_names)\n",
        "lookups = [note_to_int, int_to_note, duration_to_int, int_to_duration]\n",
        "\n",
        "with open(os.path.join(store_folder, 'lookups'), 'wb') as f:\n",
        "    pickle.dump(lookups, f)\n",
        "\n",
        "#print(\"note_to_int\", note_to_int)\n",
        "#print(len(note_to_int))\n",
        "#print(\"int_to_note\", int_to_note)\n",
        "#print(len(int_to_note))\n",
        "#print(\"duration_to_int\", duration_to_int)\n",
        "#print(len(duration_to_int))\n",
        "#print(\"int_to_duration\", int_to_duration)\n",
        "#print(len(int_to_duration))"
      ],
      "execution_count": null,
      "outputs": []
    },
    {
      "cell_type": "code",
      "metadata": {
        "id": "QCSepUT2q2Bo"
      },
      "source": [
        "# Set sequence length\n",
        "sequence_length = 32\n",
        "\n",
        "# train data\n",
        "train_chords = []\n",
        "train_durations = []\n",
        "# supervised learning\n",
        "target_chords = []\n",
        "target_durations = []\n",
        "\n",
        "# Build train and target sequences for chords and durations\n",
        "# Sliding window\n",
        "for s in range(len(major_chords)):\n",
        "    chord_list = [note_to_int[c] for c in major_chords[s]]\n",
        "    duration_list = [duration_to_int[d] for d in major_durations[s]]\n",
        "    for i in range(len(chord_list) - sequence_length):\n",
        "        train_chords.append(chord_list[i:i+sequence_length])\n",
        "        train_durations.append(duration_list[i:i+sequence_length])\n",
        "        target_chords.append(chord_list[i+1])\n",
        "        target_durations.append(duration_list[i+1])\n",
        "\n",
        "#print(\"train_chords\", train_chords)\n",
        "#print(\"train_durations\", train_durations)\n",
        "#print(\"target_chords\", target_chords)\n",
        "#print(\"target_durations\", target_durations)"
      ],
      "execution_count": null,
      "outputs": []
    },
    {
      "cell_type": "code",
      "metadata": {
        "id": "TpZc7qnQq5e0"
      },
      "source": [
        "train_chords = np.array(train_chords)\n",
        "train_durations = np.array(train_durations)\n",
        "target_chords = np.array(target_chords)\n",
        "target_durations = np.array(target_durations)"
      ],
      "execution_count": null,
      "outputs": []
    },
    {
      "cell_type": "code",
      "metadata": {
        "id": "y-7XEZ8Cq8kd"
      },
      "source": [
        "def create_network(n_notes, n_durations, embed_size, rnn_units):\n",
        "\n",
        "    # two parallel inputs\n",
        "    notes_in = Input(shape = (None,))\n",
        "    durations_in = Input(shape = (None,))\n",
        "\n",
        "    x1 = Embedding(n_notes, embed_size)(notes_in)\n",
        "    x2 = Embedding(n_durations, embed_size)(durations_in) \n",
        "\n",
        "    x = Concatenate()([x1,x2])\n",
        "\n",
        "    x = LSTM(rnn_units, return_sequences=True)(x)\n",
        "\n",
        "    x = LSTM(rnn_units, return_sequences=True)(x)\n",
        "\n",
        "    # added LSTM layer to improve learning of long sequences\n",
        "    x = LSTM(rnn_units, return_sequences=True)(x)\n",
        "\n",
        "    # added LSTM layer to improve learning of long sequences\n",
        "    x = LSTM(rnn_units, return_sequences=True)(x)\n",
        "\n",
        "    # attention\n",
        "    e = Dense(1, activation='tanh')(x)\n",
        "    e = Reshape([-1])(e)\n",
        "    alpha = Activation('softmax')(e)\n",
        "\n",
        "    alpha_repeated = Permute([2, 1])(RepeatVector(rnn_units)(alpha))\n",
        "\n",
        "    c = Multiply()([x, alpha_repeated])\n",
        "    c = Lambda(lambda xin: K.sum(xin, axis=1), output_shape=(rnn_units,))(c)\n",
        "    \n",
        "    # two paralell outputs                                \n",
        "    notes_out = Dense(n_notes, activation = 'softmax', name = 'pitch')(c)\n",
        "    durations_out = Dense(n_durations, activation = 'softmax', name = 'duration')(c)\n",
        "   \n",
        "    model = Model([notes_in, durations_in], [notes_out, durations_out])\n",
        "    opt = optimizer=Adam()\n",
        "    model.compile(loss=['sparse_categorical_crossentropy', \n",
        "                        'sparse_categorical_crossentropy'], optimizer=opt)\n",
        "\n",
        "    return model"
      ],
      "execution_count": null,
      "outputs": []
    },
    {
      "cell_type": "code",
      "metadata": {
        "id": "LzN6m1y9q_N8"
      },
      "source": [
        "embed_size = 128\n",
        "rnn_units = 128"
      ],
      "execution_count": null,
      "outputs": []
    },
    {
      "cell_type": "code",
      "metadata": {
        "id": "asqkTQZ7rB1m"
      },
      "source": [
        "model = create_network(n_notes, n_durations, embed_size, rnn_units)"
      ],
      "execution_count": null,
      "outputs": []
    },
    {
      "cell_type": "code",
      "metadata": {
        "id": "llgdUES4rEe-",
        "colab": {
          "base_uri": "https://localhost:8080/"
        },
        "outputId": "b72bd5cd-ddcd-4faa-e53b-5c8d844ba1b6"
      },
      "source": [
        "model.summary()"
      ],
      "execution_count": null,
      "outputs": [
        {
          "output_type": "stream",
          "name": "stdout",
          "text": [
            "Model: \"model\"\n",
            "__________________________________________________________________________________________________\n",
            "Layer (type)                    Output Shape         Param #     Connected to                     \n",
            "==================================================================================================\n",
            "input_1 (InputLayer)            [(None, None)]       0                                            \n",
            "__________________________________________________________________________________________________\n",
            "input_2 (InputLayer)            [(None, None)]       0                                            \n",
            "__________________________________________________________________________________________________\n",
            "embedding (Embedding)           (None, None, 128)    860800      input_1[0][0]                    \n",
            "__________________________________________________________________________________________________\n",
            "embedding_1 (Embedding)         (None, None, 128)    2688        input_2[0][0]                    \n",
            "__________________________________________________________________________________________________\n",
            "concatenate (Concatenate)       (None, None, 256)    0           embedding[0][0]                  \n",
            "                                                                 embedding_1[0][0]                \n",
            "__________________________________________________________________________________________________\n",
            "lstm (LSTM)                     (None, None, 128)    197120      concatenate[0][0]                \n",
            "__________________________________________________________________________________________________\n",
            "lstm_1 (LSTM)                   (None, None, 128)    131584      lstm[0][0]                       \n",
            "__________________________________________________________________________________________________\n",
            "lstm_2 (LSTM)                   (None, None, 128)    131584      lstm_1[0][0]                     \n",
            "__________________________________________________________________________________________________\n",
            "lstm_3 (LSTM)                   (None, None, 128)    131584      lstm_2[0][0]                     \n",
            "__________________________________________________________________________________________________\n",
            "dense (Dense)                   (None, None, 1)      129         lstm_3[0][0]                     \n",
            "__________________________________________________________________________________________________\n",
            "reshape (Reshape)               (None, None)         0           dense[0][0]                      \n",
            "__________________________________________________________________________________________________\n",
            "activation (Activation)         (None, None)         0           reshape[0][0]                    \n",
            "__________________________________________________________________________________________________\n",
            "repeat_vector (RepeatVector)    (None, 128, None)    0           activation[0][0]                 \n",
            "__________________________________________________________________________________________________\n",
            "permute (Permute)               (None, None, 128)    0           repeat_vector[0][0]              \n",
            "__________________________________________________________________________________________________\n",
            "multiply (Multiply)             (None, None, 128)    0           lstm_3[0][0]                     \n",
            "                                                                 permute[0][0]                    \n",
            "__________________________________________________________________________________________________\n",
            "lambda (Lambda)                 (None, 128)          0           multiply[0][0]                   \n",
            "__________________________________________________________________________________________________\n",
            "pitch (Dense)                   (None, 6725)         867525      lambda[0][0]                     \n",
            "__________________________________________________________________________________________________\n",
            "duration (Dense)                (None, 21)           2709        lambda[0][0]                     \n",
            "==================================================================================================\n",
            "Total params: 2,325,723\n",
            "Trainable params: 2,325,723\n",
            "Non-trainable params: 0\n",
            "__________________________________________________________________________________________________\n"
          ]
        }
      ]
    },
    {
      "cell_type": "code",
      "metadata": {
        "id": "-q8ihRaKrHut"
      },
      "source": [
        "if not os.path.exists('outputs'):\n",
        "    os.mkdir('outputs')\n",
        "\n",
        "if not os.path.exists('outputs/output'):\n",
        "    os.mkdir('outputs/output')\n",
        "\n",
        "if not os.path.exists('outputs/weights'):\n",
        "    os.mkdir('outputs/weights')"
      ],
      "execution_count": null,
      "outputs": []
    },
    {
      "cell_type": "code",
      "metadata": {
        "id": "1O3TzSkqrKfw"
      },
      "source": [
        "output_folder = 'outputs'\n",
        "weights_folder = os.path.join(output_folder, 'weights')\n",
        "\n",
        "checkpoint = ModelCheckpoint(\n",
        "    os.path.join(weights_folder, \"weights.h5\"),\n",
        "    monitor='loss',\n",
        "    verbose=0,\n",
        "    save_best_only=True,\n",
        "    mode='min'\n",
        ")\n",
        "\n",
        "early_stopping = EarlyStopping(\n",
        "    monitor='loss',\n",
        "    restore_best_weights=True,\n",
        "    patience = 5\n",
        ")\n",
        "\n",
        "callbacks_list = [\n",
        "    checkpoint,\n",
        "    early_stopping\n",
        " ]\n",
        "\n",
        "model.save_weights(os.path.join(weights_folder, \"weights.h5\"))"
      ],
      "execution_count": null,
      "outputs": []
    },
    {
      "cell_type": "code",
      "metadata": {
        "id": "L6e3oQdYrNlJ",
        "colab": {
          "base_uri": "https://localhost:8080/"
        },
        "outputId": "27a95f2c-2cf5-42f2-f480-67a5b1c1d4bb"
      },
      "source": [
        "history = model.fit([train_chords, train_durations], \n",
        "                    [target_chords, target_durations],\n",
        "                    epochs=20, batch_size=128,\n",
        "                    callbacks=callbacks_list,\n",
        "                    shuffle=True\n",
        "                  )"
      ],
      "execution_count": null,
      "outputs": [
        {
          "output_type": "stream",
          "name": "stdout",
          "text": [
            "Epoch 1/20\n",
            "262/262 [==============================] - 24s 48ms/step - loss: 8.4932 - pitch_loss: 7.7473 - duration_loss: 0.7459\n",
            "Epoch 2/20\n"
          ]
        },
        {
          "output_type": "stream",
          "name": "stderr",
          "text": [
            "/usr/local/lib/python3.7/dist-packages/keras/utils/generic_utils.py:497: CustomMaskWarning: Custom mask layers require a config and must override get_config. When loading, the custom mask layer must be passed to the custom_objects argument.\n",
            "  category=CustomMaskWarning)\n"
          ]
        },
        {
          "output_type": "stream",
          "name": "stdout",
          "text": [
            "262/262 [==============================] - 11s 43ms/step - loss: 7.3048 - pitch_loss: 6.8758 - duration_loss: 0.4291\n",
            "Epoch 3/20\n",
            "262/262 [==============================] - 11s 44ms/step - loss: 6.7436 - pitch_loss: 6.4111 - duration_loss: 0.3324\n",
            "Epoch 4/20\n",
            "262/262 [==============================] - 11s 43ms/step - loss: 6.2662 - pitch_loss: 5.9913 - duration_loss: 0.2749\n",
            "Epoch 5/20\n",
            "262/262 [==============================] - 11s 44ms/step - loss: 5.6922 - pitch_loss: 5.5191 - duration_loss: 0.1731\n",
            "Epoch 6/20\n",
            "262/262 [==============================] - 11s 44ms/step - loss: 5.1473 - pitch_loss: 5.0225 - duration_loss: 0.1248\n",
            "Epoch 7/20\n",
            "262/262 [==============================] - 11s 43ms/step - loss: 4.7204 - pitch_loss: 4.6024 - duration_loss: 0.1180\n",
            "Epoch 8/20\n",
            "262/262 [==============================] - 11s 43ms/step - loss: 4.3524 - pitch_loss: 4.2580 - duration_loss: 0.0945\n",
            "Epoch 9/20\n",
            "262/262 [==============================] - 11s 43ms/step - loss: 3.9953 - pitch_loss: 3.9265 - duration_loss: 0.0688\n",
            "Epoch 10/20\n",
            "262/262 [==============================] - 11s 44ms/step - loss: 3.7114 - pitch_loss: 3.6490 - duration_loss: 0.0624\n",
            "Epoch 11/20\n",
            "262/262 [==============================] - 11s 43ms/step - loss: 3.5739 - pitch_loss: 3.5085 - duration_loss: 0.0654\n",
            "Epoch 12/20\n",
            "262/262 [==============================] - 11s 43ms/step - loss: 3.2821 - pitch_loss: 3.2267 - duration_loss: 0.0554\n",
            "Epoch 13/20\n",
            "262/262 [==============================] - 11s 43ms/step - loss: 2.8753 - pitch_loss: 2.8326 - duration_loss: 0.0427\n",
            "Epoch 14/20\n",
            "262/262 [==============================] - 11s 44ms/step - loss: 3.1737 - pitch_loss: 3.1032 - duration_loss: 0.0705\n",
            "Epoch 15/20\n",
            "262/262 [==============================] - 11s 44ms/step - loss: 2.6478 - pitch_loss: 2.6069 - duration_loss: 0.0409\n",
            "Epoch 16/20\n",
            "262/262 [==============================] - 11s 43ms/step - loss: 2.3362 - pitch_loss: 2.3024 - duration_loss: 0.0338\n",
            "Epoch 17/20\n",
            "262/262 [==============================] - 11s 43ms/step - loss: 2.1943 - pitch_loss: 2.1611 - duration_loss: 0.0332\n",
            "Epoch 18/20\n",
            "262/262 [==============================] - 11s 44ms/step - loss: 2.0865 - pitch_loss: 2.0550 - duration_loss: 0.0316\n",
            "Epoch 19/20\n",
            "262/262 [==============================] - 11s 44ms/step - loss: 1.9399 - pitch_loss: 1.9042 - duration_loss: 0.0357\n",
            "Epoch 20/20\n",
            "262/262 [==============================] - 11s 43ms/step - loss: 1.8196 - pitch_loss: 1.7837 - duration_loss: 0.0359\n"
          ]
        }
      ]
    },
    {
      "cell_type": "code",
      "metadata": {
        "id": "gz1KCatrhFUj",
        "colab": {
          "base_uri": "https://localhost:8080/",
          "height": 294
        },
        "outputId": "60a01235-3382-4475-8a71-4162f1d527ad"
      },
      "source": [
        "# https://www.pluralsight.com/guides/data-visualization-deep-learning-model-using-matplotlib\n",
        "pitch_loss = history.history['pitch_loss']\n",
        "duration_loss = history.history['duration_loss']\n",
        "\n",
        "# set 'epochs' according to the above result\n",
        "epochs = 20\n",
        "epochs = range(epochs)\n",
        "plt.plot(epochs, pitch_loss, 'g', label='Pitch loss')\n",
        "plt.plot(epochs, duration_loss, 'b', label='Duration loss')\n",
        "plt.title('pitch and duration loss')\n",
        "plt.xlabel('Epochs')\n",
        "plt.ylabel('Loss')\n",
        "plt.legend()\n",
        "plt.show()"
      ],
      "execution_count": null,
      "outputs": [
        {
          "output_type": "display_data",
          "data": {
            "image/png": "[encoded data removed]",
            "text/plain": [
              "<Figure size 432x288 with 1 Axes>"
            ]
          },
          "metadata": {
            "image/png": {
              "width": 376,
              "height": 277
            },
            "needs_background": "light"
          }
        }
      ]
    },
    {
      "cell_type": "code",
      "metadata": {
        "id": "ihykEvNsrTbL"
      },
      "source": [
        "\"\"\"\n",
        "Too much randomness in the output is not good, as it can lead to incoherent\n",
        "results.\n",
        "\n",
        "Temperature is a tunable parameter to control the amount of randomness.\n",
        "Temperature helps to increase the likelihood of high probability terms while\n",
        "reducing the likelihood of low probability ones. High temperature leads to more\n",
        "randomness, while lower temperature brings in predictability.\n",
        "\"\"\"\n",
        "def sample_with_temp(preds, temperature):\n",
        "\n",
        "    if temperature == 0:\n",
        "        return np.argmax(preds)\n",
        "    else:\n",
        "        preds = np.log(preds) / temperature\n",
        "        exp_preds = np.exp(preds)\n",
        "        preds = exp_preds / np.sum(exp_preds)\n",
        "        return np.random.choice(len(preds), p=preds)"
      ],
      "execution_count": null,
      "outputs": []
    },
    {
      "cell_type": "code",
      "metadata": {
        "id": "BO_iere8rWMu"
      },
      "source": [
        "# chord and duration sequences\n",
        "initial_chords = np.expand_dims(train_chords[0,:].copy(), 0)\n",
        "initial_durations = np.expand_dims(train_durations[0,:].copy(), 0)"
      ],
      "execution_count": null,
      "outputs": []
    },
    {
      "cell_type": "code",
      "metadata": {
        "id": "6vUE0OwOrYwn",
        "colab": {
          "base_uri": "https://localhost:8080/"
        },
        "outputId": "99419635-4245-4b0d-c3d5-027b737ad560"
      },
      "source": [
        "initial_chords"
      ],
      "execution_count": null,
      "outputs": [
        {
          "output_type": "execute_result",
          "data": {
            "text/plain": [
              "array([[1647, 1647, 1647, 1647, 1647, 1647, 1376, 2644, 3602, 4645, 3602,\n",
              "        2644, 2644, 2644, 2644, 2644, 2644, 3268, 3602, 4242, 5992,  101,\n",
              "         626,  626,  626, 1376, 1376,  101,  101,  101, 1647, 1647]])"
            ]
          },
          "metadata": {},
          "execution_count": 24
        }
      ]
    },
    {
      "cell_type": "code",
      "metadata": {
        "id": "JLSyjyQBrbfv",
        "colab": {
          "base_uri": "https://localhost:8080/"
        },
        "outputId": "c4f56050-1b59-4e97-e035-535c99a6b9c8"
      },
      "source": [
        "initial_durations"
      ],
      "execution_count": null,
      "outputs": [
        {
          "output_type": "execute_result",
          "data": {
            "text/plain": [
              "array([[ 8,  2,  2,  8,  2,  2,  2, 11,  2,  2,  2,  8,  2,  2,  8,  2,\n",
              "         2,  2, 11,  2,  2,  2,  8,  2,  2, 11,  2,  8,  2,  2, 11,  2]])"
            ]
          },
          "metadata": {},
          "execution_count": 25
        }
      ]
    },
    {
      "cell_type": "code",
      "metadata": {
        "id": "QmPUlyK8rgSX"
      },
      "source": [
        "# Predict chords and durations\n",
        "def predict_chords(chord_sequence, duration_sequence, model, temperature):\n",
        "    predicted_chords, predicted_durations = model.predict([chord_sequence,\n",
        "                                                           duration_sequence])\n",
        "    return sample_with_temp(predicted_chords[0], temperature), sample_with_temp(predicted_durations[0], temperature)"
      ],
      "execution_count": null,
      "outputs": []
    },
    {
      "cell_type": "code",
      "metadata": {
        "id": "1Twc9vrKrjwf",
        "colab": {
          "base_uri": "https://localhost:8080/"
        },
        "outputId": "b461674c-23af-428c-91ee-db5332d39e9a"
      },
      "source": [
        "# Generated chords and durations\n",
        "new_chords, new_durations = [], []\n",
        "\n",
        "# Generate chords and durations using 60 rounds of prediction\n",
        "for j in range(60):\n",
        "    new_chord, new_duration = predict_chords(initial_chords, \n",
        "                                             initial_durations,\n",
        "                                             model,\n",
        "                                             temperature=0.8)\n",
        "    new_chords.append(new_chord)\n",
        "    new_durations.append(new_duration)\n",
        "    initial_chords[0][:-1] = initial_chords[0][1:]\n",
        "    initial_chords[0][-1] = new_chord\n",
        "    initial_durations[0][:-1] = initial_durations[0][1:]\n",
        "    initial_durations[0][-1] = new_duration\n",
        "\n",
        "print(\"new_chords\", new_chords)\n",
        "print(\"new_durations\", new_durations)"
      ],
      "execution_count": null,
      "outputs": [
        {
          "output_type": "stream",
          "name": "stdout",
          "text": [
            "new_chords [1647, 1647, 6077, 1647, 1647, 5808, 2644, 3602, 4645, 5808, 3363, 2644, 2644, 5816, 2644, 2644, 4788, 5808, 6426, 5992, 101, 4687, 6134, 626, 5088, 5808, 6647, 101, 1120, 1647, 1647, 1647, 1647, 6077, 1647, 1647, 5808, 3363, 3602, 4645, 5808, 5626, 2644, 2644, 5816, 2644, 2644, 3070, 5808, 6426, 5992, 5086, 2357, 1442, 626, 5551, 1376, 3140, 101, 3682]\n",
            "new_durations [2, 2, 5, 2, 2, 2, 11, 2, 2, 2, 8, 2, 2, 8, 2, 2, 2, 11, 2, 2, 2, 8, 2, 2, 11, 2, 8, 2, 2, 5, 2, 2, 2, 5, 2, 2, 2, 11, 2, 2, 2, 8, 2, 2, 8, 2, 2, 2, 11, 2, 2, 2, 8, 2, 2, 11, 2, 8, 2, 2]\n"
          ]
        }
      ]
    },
    {
      "cell_type": "code",
      "metadata": {
        "id": "AlEOB9SYrmVw",
        "colab": {
          "base_uri": "https://localhost:8080/",
          "height": 35
        },
        "outputId": "3cdf38f4-1019-4648-d1f1-fbe2a7263f2a"
      },
      "source": [
        "# Create stream object\n",
        "generated_stream = stream.Stream()\n",
        "generated_stream.append(instrument.Piano())\n",
        "\n",
        "# Add notes and durations to stream\n",
        "for j in range(len(new_chords)):\n",
        "    try:\n",
        "        generated_stream.append(note.Note(int_to_note[new_chords[j]].replace('.', ' '), \n",
        "                                          quarterType = int_to_duration[new_durations[j]]))\n",
        "    except:\n",
        "        generated_stream.append(chord.Chord(int_to_note[new_chords[j]].replace('.', ' '), \n",
        "                                            quarterType = int_to_duration[new_durations[j]]))\n",
        "\n",
        "# Export as MIDI file\n",
        "generated_stream.write('midi', fp='lstm_att_adam_295_midi_3.mid')"
      ],
      "execution_count": null,
      "outputs": [
        {
          "output_type": "execute_result",
          "data": {
            "application/vnd.google.colaboratory.intrinsic+json": {
              "type": "string"
            },
            "text/plain": [
              "'lstm_att_adam_295_midi_3.mid'"
            ]
          },
          "metadata": {},
          "execution_count": 28
        }
      ]
    }
  ]
}