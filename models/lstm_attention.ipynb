{
  "nbformat": 4,
  "nbformat_minor": 0,
  "metadata": {
    "colab": {
      "name": "lstm_att_sep_22_1.ipynb",
      "provenance": [],
      "mount_file_id": "1tR40lIjOR7YENfbitP0o097WjwHZVw1R",
      "authorship_tag": "ABX9TyOyBFlGY2ymM0xJTojPc9C/",
      "include_colab_link": true
    },
    "kernelspec": {
      "name": "python3",
      "display_name": "Python 3"
    },
    "language_info": {
      "name": "python"
    },
    "accelerator": "GPU",
    "widgets": {
      "application/vnd.jupyter.widget-state+json": {
        "5c3094e1bb5f48528dba75354137d4f7": {
          "model_module": "@jupyter-widgets/controls",
          "model_name": "HBoxModel",
          "model_module_version": "1.5.0",
          "state": {
            "_view_name": "HBoxView",
            "_dom_classes": [],
            "_model_name": "HBoxModel",
            "_view_module": "@jupyter-widgets/controls",
            "_model_module_version": "1.5.0",
            "_view_count": null,
            "_view_module_version": "1.5.0",
            "box_style": "",
            "layout": "IPY_MODEL_e449014a7a04493a9ab366ab86ed55a9",
            "_model_module": "@jupyter-widgets/controls",
            "children": [
              "IPY_MODEL_08bed945a85f4e25bcc4f0987f3b7e40",
              "IPY_MODEL_722cfb8cd6df4c589848e6592cbeade0",
              "IPY_MODEL_0c389bb8f3a747dfb14e62daefb5501c"
            ]
          }
        },
        "e449014a7a04493a9ab366ab86ed55a9": {
          "model_module": "@jupyter-widgets/base",
          "model_name": "LayoutModel",
          "model_module_version": "1.2.0",
          "state": {
            "_view_name": "LayoutView",
            "grid_template_rows": null,
            "right": null,
            "justify_content": null,
            "_view_module": "@jupyter-widgets/base",
            "overflow": null,
            "_model_module_version": "1.2.0",
            "_view_count": null,
            "flex_flow": null,
            "width": null,
            "min_width": null,
            "border": null,
            "align_items": null,
            "bottom": null,
            "_model_module": "@jupyter-widgets/base",
            "top": null,
            "grid_column": null,
            "overflow_y": null,
            "overflow_x": null,
            "grid_auto_flow": null,
            "grid_area": null,
            "grid_template_columns": null,
            "flex": null,
            "_model_name": "LayoutModel",
            "justify_items": null,
            "grid_row": null,
            "max_height": null,
            "align_content": null,
            "visibility": null,
            "align_self": null,
            "height": null,
            "min_height": null,
            "padding": null,
            "grid_auto_rows": null,
            "grid_gap": null,
            "max_width": null,
            "order": null,
            "_view_module_version": "1.2.0",
            "grid_template_areas": null,
            "object_position": null,
            "object_fit": null,
            "grid_auto_columns": null,
            "margin": null,
            "display": null,
            "left": null
          }
        },
        "08bed945a85f4e25bcc4f0987f3b7e40": {
          "model_module": "@jupyter-widgets/controls",
          "model_name": "HTMLModel",
          "model_module_version": "1.5.0",
          "state": {
            "_view_name": "HTMLView",
            "style": "IPY_MODEL_6ceb68ac120342aeba6c114eee52244f",
            "_dom_classes": [],
            "description": "",
            "_model_name": "HTMLModel",
            "placeholder": "​",
            "_view_module": "@jupyter-widgets/controls",
            "_model_module_version": "1.5.0",
            "value": "100%",
            "_view_count": null,
            "_view_module_version": "1.5.0",
            "description_tooltip": null,
            "_model_module": "@jupyter-widgets/controls",
            "layout": "IPY_MODEL_0cfc03aa6daa4fc1bf7cd0dc8f2db7f8"
          }
        },
        "722cfb8cd6df4c589848e6592cbeade0": {
          "model_module": "@jupyter-widgets/controls",
          "model_name": "FloatProgressModel",
          "model_module_version": "1.5.0",
          "state": {
            "_view_name": "ProgressView",
            "style": "IPY_MODEL_57eb534a029c458fa8660d551bcbf71e",
            "_dom_classes": [],
            "description": "",
            "_model_name": "FloatProgressModel",
            "bar_style": "success",
            "max": 2,
            "_view_module": "@jupyter-widgets/controls",
            "_model_module_version": "1.5.0",
            "value": 2,
            "_view_count": null,
            "_view_module_version": "1.5.0",
            "orientation": "horizontal",
            "min": 0,
            "description_tooltip": null,
            "_model_module": "@jupyter-widgets/controls",
            "layout": "IPY_MODEL_3f0419e95bf440ce9d3761b7edce72c3"
          }
        },
        "0c389bb8f3a747dfb14e62daefb5501c": {
          "model_module": "@jupyter-widgets/controls",
          "model_name": "HTMLModel",
          "model_module_version": "1.5.0",
          "state": {
            "_view_name": "HTMLView",
            "style": "IPY_MODEL_d2918f7d08df4a4f96c28879a2747345",
            "_dom_classes": [],
            "description": "",
            "_model_name": "HTMLModel",
            "placeholder": "​",
            "_view_module": "@jupyter-widgets/controls",
            "_model_module_version": "1.5.0",
            "value": " 2/2 [01:47&lt;00:00, 54.33s/it]",
            "_view_count": null,
            "_view_module_version": "1.5.0",
            "description_tooltip": null,
            "_model_module": "@jupyter-widgets/controls",
            "layout": "IPY_MODEL_90cfb96cbd6c40edb25af67a90c903aa"
          }
        },
        "6ceb68ac120342aeba6c114eee52244f": {
          "model_module": "@jupyter-widgets/controls",
          "model_name": "DescriptionStyleModel",
          "model_module_version": "1.5.0",
          "state": {
            "_view_name": "StyleView",
            "_model_name": "DescriptionStyleModel",
            "description_width": "",
            "_view_module": "@jupyter-widgets/base",
            "_model_module_version": "1.5.0",
            "_view_count": null,
            "_view_module_version": "1.2.0",
            "_model_module": "@jupyter-widgets/controls"
          }
        },
        "0cfc03aa6daa4fc1bf7cd0dc8f2db7f8": {
          "model_module": "@jupyter-widgets/base",
          "model_name": "LayoutModel",
          "model_module_version": "1.2.0",
          "state": {
            "_view_name": "LayoutView",
            "grid_template_rows": null,
            "right": null,
            "justify_content": null,
            "_view_module": "@jupyter-widgets/base",
            "overflow": null,
            "_model_module_version": "1.2.0",
            "_view_count": null,
            "flex_flow": null,
            "width": null,
            "min_width": null,
            "border": null,
            "align_items": null,
            "bottom": null,
            "_model_module": "@jupyter-widgets/base",
            "top": null,
            "grid_column": null,
            "overflow_y": null,
            "overflow_x": null,
            "grid_auto_flow": null,
            "grid_area": null,
            "grid_template_columns": null,
            "flex": null,
            "_model_name": "LayoutModel",
            "justify_items": null,
            "grid_row": null,
            "max_height": null,
            "align_content": null,
            "visibility": null,
            "align_self": null,
            "height": null,
            "min_height": null,
            "padding": null,
            "grid_auto_rows": null,
            "grid_gap": null,
            "max_width": null,
            "order": null,
            "_view_module_version": "1.2.0",
            "grid_template_areas": null,
            "object_position": null,
            "object_fit": null,
            "grid_auto_columns": null,
            "margin": null,
            "display": null,
            "left": null
          }
        },
        "57eb534a029c458fa8660d551bcbf71e": {
          "model_module": "@jupyter-widgets/controls",
          "model_name": "ProgressStyleModel",
          "model_module_version": "1.5.0",
          "state": {
            "_view_name": "StyleView",
            "_model_name": "ProgressStyleModel",
            "description_width": "",
            "_view_module": "@jupyter-widgets/base",
            "_model_module_version": "1.5.0",
            "_view_count": null,
            "_view_module_version": "1.2.0",
            "bar_color": null,
            "_model_module": "@jupyter-widgets/controls"
          }
        },
        "3f0419e95bf440ce9d3761b7edce72c3": {
          "model_module": "@jupyter-widgets/base",
          "model_name": "LayoutModel",
          "model_module_version": "1.2.0",
          "state": {
            "_view_name": "LayoutView",
            "grid_template_rows": null,
            "right": null,
            "justify_content": null,
            "_view_module": "@jupyter-widgets/base",
            "overflow": null,
            "_model_module_version": "1.2.0",
            "_view_count": null,
            "flex_flow": null,
            "width": null,
            "min_width": null,
            "border": null,
            "align_items": null,
            "bottom": null,
            "_model_module": "@jupyter-widgets/base",
            "top": null,
            "grid_column": null,
            "overflow_y": null,
            "overflow_x": null,
            "grid_auto_flow": null,
            "grid_area": null,
            "grid_template_columns": null,
            "flex": null,
            "_model_name": "LayoutModel",
            "justify_items": null,
            "grid_row": null,
            "max_height": null,
            "align_content": null,
            "visibility": null,
            "align_self": null,
            "height": null,
            "min_height": null,
            "padding": null,
            "grid_auto_rows": null,
            "grid_gap": null,
            "max_width": null,
            "order": null,
            "_view_module_version": "1.2.0",
            "grid_template_areas": null,
            "object_position": null,
            "object_fit": null,
            "grid_auto_columns": null,
            "margin": null,
            "display": null,
            "left": null
          }
        },
        "d2918f7d08df4a4f96c28879a2747345": {
          "model_module": "@jupyter-widgets/controls",
          "model_name": "DescriptionStyleModel",
          "model_module_version": "1.5.0",
          "state": {
            "_view_name": "StyleView",
            "_model_name": "DescriptionStyleModel",
            "description_width": "",
            "_view_module": "@jupyter-widgets/base",
            "_model_module_version": "1.5.0",
            "_view_count": null,
            "_view_module_version": "1.2.0",
            "_model_module": "@jupyter-widgets/controls"
          }
        },
        "90cfb96cbd6c40edb25af67a90c903aa": {
          "model_module": "@jupyter-widgets/base",
          "model_name": "LayoutModel",
          "model_module_version": "1.2.0",
          "state": {
            "_view_name": "LayoutView",
            "grid_template_rows": null,
            "right": null,
            "justify_content": null,
            "_view_module": "@jupyter-widgets/base",
            "overflow": null,
            "_model_module_version": "1.2.0",
            "_view_count": null,
            "flex_flow": null,
            "width": null,
            "min_width": null,
            "border": null,
            "align_items": null,
            "bottom": null,
            "_model_module": "@jupyter-widgets/base",
            "top": null,
            "grid_column": null,
            "overflow_y": null,
            "overflow_x": null,
            "grid_auto_flow": null,
            "grid_area": null,
            "grid_template_columns": null,
            "flex": null,
            "_model_name": "LayoutModel",
            "justify_items": null,
            "grid_row": null,
            "max_height": null,
            "align_content": null,
            "visibility": null,
            "align_self": null,
            "height": null,
            "min_height": null,
            "padding": null,
            "grid_auto_rows": null,
            "grid_gap": null,
            "max_width": null,
            "order": null,
            "_view_module_version": "1.2.0",
            "grid_template_areas": null,
            "object_position": null,
            "object_fit": null,
            "grid_auto_columns": null,
            "margin": null,
            "display": null,
            "left": null
          }
        },
        "ced15d01bc864b349b49033e4260acd4": {
          "model_module": "@jupyter-widgets/controls",
          "model_name": "HBoxModel",
          "model_module_version": "1.5.0",
          "state": {
            "_view_name": "HBoxView",
            "_dom_classes": [],
            "_model_name": "HBoxModel",
            "_view_module": "@jupyter-widgets/controls",
            "_model_module_version": "1.5.0",
            "_view_count": null,
            "_view_module_version": "1.5.0",
            "box_style": "",
            "layout": "IPY_MODEL_73accb61f3ba453eb3f6901109a32bba",
            "_model_module": "@jupyter-widgets/controls",
            "children": [
              "IPY_MODEL_cb62cefad5684878b77a22b4d92043d3",
              "IPY_MODEL_4e1db177533344fc9412927a40e4b8f0",
              "IPY_MODEL_97e11035f0814ff0889d23ac84e77c0e"
            ]
          }
        },
        "73accb61f3ba453eb3f6901109a32bba": {
          "model_module": "@jupyter-widgets/base",
          "model_name": "LayoutModel",
          "model_module_version": "1.2.0",
          "state": {
            "_view_name": "LayoutView",
            "grid_template_rows": null,
            "right": null,
            "justify_content": null,
            "_view_module": "@jupyter-widgets/base",
            "overflow": null,
            "_model_module_version": "1.2.0",
            "_view_count": null,
            "flex_flow": null,
            "width": null,
            "min_width": null,
            "border": null,
            "align_items": null,
            "bottom": null,
            "_model_module": "@jupyter-widgets/base",
            "top": null,
            "grid_column": null,
            "overflow_y": null,
            "overflow_x": null,
            "grid_auto_flow": null,
            "grid_area": null,
            "grid_template_columns": null,
            "flex": null,
            "_model_name": "LayoutModel",
            "justify_items": null,
            "grid_row": null,
            "max_height": null,
            "align_content": null,
            "visibility": null,
            "align_self": null,
            "height": null,
            "min_height": null,
            "padding": null,
            "grid_auto_rows": null,
            "grid_gap": null,
            "max_width": null,
            "order": null,
            "_view_module_version": "1.2.0",
            "grid_template_areas": null,
            "object_position": null,
            "object_fit": null,
            "grid_auto_columns": null,
            "margin": null,
            "display": null,
            "left": null
          }
        },
        "cb62cefad5684878b77a22b4d92043d3": {
          "model_module": "@jupyter-widgets/controls",
          "model_name": "HTMLModel",
          "model_module_version": "1.5.0",
          "state": {
            "_view_name": "HTMLView",
            "style": "IPY_MODEL_62077cdd2bf44001aeacac4cc5524623",
            "_dom_classes": [],
            "description": "",
            "_model_name": "HTMLModel",
            "placeholder": "​",
            "_view_module": "@jupyter-widgets/controls",
            "_model_module_version": "1.5.0",
            "value": "",
            "_view_count": null,
            "_view_module_version": "1.5.0",
            "description_tooltip": null,
            "_model_module": "@jupyter-widgets/controls",
            "layout": "IPY_MODEL_dc9f78918e0d44709eef0ea44a7189ce"
          }
        },
        "4e1db177533344fc9412927a40e4b8f0": {
          "model_module": "@jupyter-widgets/controls",
          "model_name": "FloatProgressModel",
          "model_module_version": "1.5.0",
          "state": {
            "_view_name": "ProgressView",
            "style": "IPY_MODEL_4feffa2cbd05482bbf5cd6c409520f34",
            "_dom_classes": [],
            "description": "",
            "_model_name": "FloatProgressModel",
            "bar_style": "success",
            "max": 1,
            "_view_module": "@jupyter-widgets/controls",
            "_model_module_version": "1.5.0",
            "value": 1,
            "_view_count": null,
            "_view_module_version": "1.5.0",
            "orientation": "horizontal",
            "min": 0,
            "description_tooltip": null,
            "_model_module": "@jupyter-widgets/controls",
            "layout": "IPY_MODEL_b13933a5c39a47938c4734f9aaa8f7f9"
          }
        },
        "97e11035f0814ff0889d23ac84e77c0e": {
          "model_module": "@jupyter-widgets/controls",
          "model_name": "HTMLModel",
          "model_module_version": "1.5.0",
          "state": {
            "_view_name": "HTMLView",
            "style": "IPY_MODEL_eb83f09e8e47451599d677c6e2442e2a",
            "_dom_classes": [],
            "description": "",
            "_model_name": "HTMLModel",
            "placeholder": "​",
            "_view_module": "@jupyter-widgets/controls",
            "_model_module_version": "1.5.0",
            "value": " 295/? [07:57&lt;00:00,  1.49it/s]",
            "_view_count": null,
            "_view_module_version": "1.5.0",
            "description_tooltip": null,
            "_model_module": "@jupyter-widgets/controls",
            "layout": "IPY_MODEL_e6394b14b32543d4b96805308ef0aaa3"
          }
        },
        "62077cdd2bf44001aeacac4cc5524623": {
          "model_module": "@jupyter-widgets/controls",
          "model_name": "DescriptionStyleModel",
          "model_module_version": "1.5.0",
          "state": {
            "_view_name": "StyleView",
            "_model_name": "DescriptionStyleModel",
            "description_width": "",
            "_view_module": "@jupyter-widgets/base",
            "_model_module_version": "1.5.0",
            "_view_count": null,
            "_view_module_version": "1.2.0",
            "_model_module": "@jupyter-widgets/controls"
          }
        },
        "dc9f78918e0d44709eef0ea44a7189ce": {
          "model_module": "@jupyter-widgets/base",
          "model_name": "LayoutModel",
          "model_module_version": "1.2.0",
          "state": {
            "_view_name": "LayoutView",
            "grid_template_rows": null,
            "right": null,
            "justify_content": null,
            "_view_module": "@jupyter-widgets/base",
            "overflow": null,
            "_model_module_version": "1.2.0",
            "_view_count": null,
            "flex_flow": null,
            "width": null,
            "min_width": null,
            "border": null,
            "align_items": null,
            "bottom": null,
            "_model_module": "@jupyter-widgets/base",
            "top": null,
            "grid_column": null,
            "overflow_y": null,
            "overflow_x": null,
            "grid_auto_flow": null,
            "grid_area": null,
            "grid_template_columns": null,
            "flex": null,
            "_model_name": "LayoutModel",
            "justify_items": null,
            "grid_row": null,
            "max_height": null,
            "align_content": null,
            "visibility": null,
            "align_self": null,
            "height": null,
            "min_height": null,
            "padding": null,
            "grid_auto_rows": null,
            "grid_gap": null,
            "max_width": null,
            "order": null,
            "_view_module_version": "1.2.0",
            "grid_template_areas": null,
            "object_position": null,
            "object_fit": null,
            "grid_auto_columns": null,
            "margin": null,
            "display": null,
            "left": null
          }
        },
        "4feffa2cbd05482bbf5cd6c409520f34": {
          "model_module": "@jupyter-widgets/controls",
          "model_name": "ProgressStyleModel",
          "model_module_version": "1.5.0",
          "state": {
            "_view_name": "StyleView",
            "_model_name": "ProgressStyleModel",
            "description_width": "",
            "_view_module": "@jupyter-widgets/base",
            "_model_module_version": "1.5.0",
            "_view_count": null,
            "_view_module_version": "1.2.0",
            "bar_color": null,
            "_model_module": "@jupyter-widgets/controls"
          }
        },
        "b13933a5c39a47938c4734f9aaa8f7f9": {
          "model_module": "@jupyter-widgets/base",
          "model_name": "LayoutModel",
          "model_module_version": "1.2.0",
          "state": {
            "_view_name": "LayoutView",
            "grid_template_rows": null,
            "right": null,
            "justify_content": null,
            "_view_module": "@jupyter-widgets/base",
            "overflow": null,
            "_model_module_version": "1.2.0",
            "_view_count": null,
            "flex_flow": null,
            "width": "20px",
            "min_width": null,
            "border": null,
            "align_items": null,
            "bottom": null,
            "_model_module": "@jupyter-widgets/base",
            "top": null,
            "grid_column": null,
            "overflow_y": null,
            "overflow_x": null,
            "grid_auto_flow": null,
            "grid_area": null,
            "grid_template_columns": null,
            "flex": null,
            "_model_name": "LayoutModel",
            "justify_items": null,
            "grid_row": null,
            "max_height": null,
            "align_content": null,
            "visibility": null,
            "align_self": null,
            "height": null,
            "min_height": null,
            "padding": null,
            "grid_auto_rows": null,
            "grid_gap": null,
            "max_width": null,
            "order": null,
            "_view_module_version": "1.2.0",
            "grid_template_areas": null,
            "object_position": null,
            "object_fit": null,
            "grid_auto_columns": null,
            "margin": null,
            "display": null,
            "left": null
          }
        },
        "eb83f09e8e47451599d677c6e2442e2a": {
          "model_module": "@jupyter-widgets/controls",
          "model_name": "DescriptionStyleModel",
          "model_module_version": "1.5.0",
          "state": {
            "_view_name": "StyleView",
            "_model_name": "DescriptionStyleModel",
            "description_width": "",
            "_view_module": "@jupyter-widgets/base",
            "_model_module_version": "1.5.0",
            "_view_count": null,
            "_view_module_version": "1.2.0",
            "_model_module": "@jupyter-widgets/controls"
          }
        },
        "e6394b14b32543d4b96805308ef0aaa3": {
          "model_module": "@jupyter-widgets/base",
          "model_name": "LayoutModel",
          "model_module_version": "1.2.0",
          "state": {
            "_view_name": "LayoutView",
            "grid_template_rows": null,
            "right": null,
            "justify_content": null,
            "_view_module": "@jupyter-widgets/base",
            "overflow": null,
            "_model_module_version": "1.2.0",
            "_view_count": null,
            "flex_flow": null,
            "width": null,
            "min_width": null,
            "border": null,
            "align_items": null,
            "bottom": null,
            "_model_module": "@jupyter-widgets/base",
            "top": null,
            "grid_column": null,
            "overflow_y": null,
            "overflow_x": null,
            "grid_auto_flow": null,
            "grid_area": null,
            "grid_template_columns": null,
            "flex": null,
            "_model_name": "LayoutModel",
            "justify_items": null,
            "grid_row": null,
            "max_height": null,
            "align_content": null,
            "visibility": null,
            "align_self": null,
            "height": null,
            "min_height": null,
            "padding": null,
            "grid_auto_rows": null,
            "grid_gap": null,
            "max_width": null,
            "order": null,
            "_view_module_version": "1.2.0",
            "grid_template_areas": null,
            "object_position": null,
            "object_fit": null,
            "grid_auto_columns": null,
            "margin": null,
            "display": null,
            "left": null
          }
        },
        "6f103c61b5c74d0589ef9644b40ad2f9": {
          "model_module": "@jupyter-widgets/controls",
          "model_name": "HBoxModel",
          "model_module_version": "1.5.0",
          "state": {
            "_view_name": "HBoxView",
            "_dom_classes": [],
            "_model_name": "HBoxModel",
            "_view_module": "@jupyter-widgets/controls",
            "_model_module_version": "1.5.0",
            "_view_count": null,
            "_view_module_version": "1.5.0",
            "box_style": "",
            "layout": "IPY_MODEL_658ec182e7304b96a21189f58bada4e0",
            "_model_module": "@jupyter-widgets/controls",
            "children": [
              "IPY_MODEL_abb5103a6e1c4a69baa92bd0d4804ebe",
              "IPY_MODEL_a068b4360d6a4018a89d90f21731da92",
              "IPY_MODEL_116f9ca7d2484ef8bd47f0fb06d46238"
            ]
          }
        },
        "658ec182e7304b96a21189f58bada4e0": {
          "model_module": "@jupyter-widgets/base",
          "model_name": "LayoutModel",
          "model_module_version": "1.2.0",
          "state": {
            "_view_name": "LayoutView",
            "grid_template_rows": null,
            "right": null,
            "justify_content": null,
            "_view_module": "@jupyter-widgets/base",
            "overflow": null,
            "_model_module_version": "1.2.0",
            "_view_count": null,
            "flex_flow": null,
            "width": null,
            "min_width": null,
            "border": null,
            "align_items": null,
            "bottom": null,
            "_model_module": "@jupyter-widgets/base",
            "top": null,
            "grid_column": null,
            "overflow_y": null,
            "overflow_x": null,
            "grid_auto_flow": null,
            "grid_area": null,
            "grid_template_columns": null,
            "flex": null,
            "_model_name": "LayoutModel",
            "justify_items": null,
            "grid_row": null,
            "max_height": null,
            "align_content": null,
            "visibility": null,
            "align_self": null,
            "height": null,
            "min_height": null,
            "padding": null,
            "grid_auto_rows": null,
            "grid_gap": null,
            "max_width": null,
            "order": null,
            "_view_module_version": "1.2.0",
            "grid_template_areas": null,
            "object_position": null,
            "object_fit": null,
            "grid_auto_columns": null,
            "margin": null,
            "display": null,
            "left": null
          }
        },
        "abb5103a6e1c4a69baa92bd0d4804ebe": {
          "model_module": "@jupyter-widgets/controls",
          "model_name": "HTMLModel",
          "model_module_version": "1.5.0",
          "state": {
            "_view_name": "HTMLView",
            "style": "IPY_MODEL_c1398c7bbd804c728e7c3c2eb2f4a0a1",
            "_dom_classes": [],
            "description": "",
            "_model_name": "HTMLModel",
            "placeholder": "​",
            "_view_module": "@jupyter-widgets/controls",
            "_model_module_version": "1.5.0",
            "value": "",
            "_view_count": null,
            "_view_module_version": "1.5.0",
            "description_tooltip": null,
            "_model_module": "@jupyter-widgets/controls",
            "layout": "IPY_MODEL_7549c4e5eb214e38afd6b1e53c35bbcd"
          }
        },
        "a068b4360d6a4018a89d90f21731da92": {
          "model_module": "@jupyter-widgets/controls",
          "model_name": "FloatProgressModel",
          "model_module_version": "1.5.0",
          "state": {
            "_view_name": "ProgressView",
            "style": "IPY_MODEL_4d2d3016186f460ea71e194195daf4c1",
            "_dom_classes": [],
            "description": "",
            "_model_name": "FloatProgressModel",
            "bar_style": "success",
            "max": 1,
            "_view_module": "@jupyter-widgets/controls",
            "_model_module_version": "1.5.0",
            "value": 1,
            "_view_count": null,
            "_view_module_version": "1.5.0",
            "orientation": "horizontal",
            "min": 0,
            "description_tooltip": null,
            "_model_module": "@jupyter-widgets/controls",
            "layout": "IPY_MODEL_3bd05cebd0d24e578a7d64c1226041b9"
          }
        },
        "116f9ca7d2484ef8bd47f0fb06d46238": {
          "model_module": "@jupyter-widgets/controls",
          "model_name": "HTMLModel",
          "model_module_version": "1.5.0",
          "state": {
            "_view_name": "HTMLView",
            "style": "IPY_MODEL_31b9b870ee2b4292b65d6ce3fc3120da",
            "_dom_classes": [],
            "description": "",
            "_model_name": "HTMLModel",
            "placeholder": "​",
            "_view_module": "@jupyter-widgets/controls",
            "_model_module_version": "1.5.0",
            "value": " 295/? [00:00&lt;00:00, 4939.03it/s]",
            "_view_count": null,
            "_view_module_version": "1.5.0",
            "description_tooltip": null,
            "_model_module": "@jupyter-widgets/controls",
            "layout": "IPY_MODEL_5ebc2b4cc1bf4b8c94d9535075f84212"
          }
        },
        "c1398c7bbd804c728e7c3c2eb2f4a0a1": {
          "model_module": "@jupyter-widgets/controls",
          "model_name": "DescriptionStyleModel",
          "model_module_version": "1.5.0",
          "state": {
            "_view_name": "StyleView",
            "_model_name": "DescriptionStyleModel",
            "description_width": "",
            "_view_module": "@jupyter-widgets/base",
            "_model_module_version": "1.5.0",
            "_view_count": null,
            "_view_module_version": "1.2.0",
            "_model_module": "@jupyter-widgets/controls"
          }
        },
        "7549c4e5eb214e38afd6b1e53c35bbcd": {
          "model_module": "@jupyter-widgets/base",
          "model_name": "LayoutModel",
          "model_module_version": "1.2.0",
          "state": {
            "_view_name": "LayoutView",
            "grid_template_rows": null,
            "right": null,
            "justify_content": null,
            "_view_module": "@jupyter-widgets/base",
            "overflow": null,
            "_model_module_version": "1.2.0",
            "_view_count": null,
            "flex_flow": null,
            "width": null,
            "min_width": null,
            "border": null,
            "align_items": null,
            "bottom": null,
            "_model_module": "@jupyter-widgets/base",
            "top": null,
            "grid_column": null,
            "overflow_y": null,
            "overflow_x": null,
            "grid_auto_flow": null,
            "grid_area": null,
            "grid_template_columns": null,
            "flex": null,
            "_model_name": "LayoutModel",
            "justify_items": null,
            "grid_row": null,
            "max_height": null,
            "align_content": null,
            "visibility": null,
            "align_self": null,
            "height": null,
            "min_height": null,
            "padding": null,
            "grid_auto_rows": null,
            "grid_gap": null,
            "max_width": null,
            "order": null,
            "_view_module_version": "1.2.0",
            "grid_template_areas": null,
            "object_position": null,
            "object_fit": null,
            "grid_auto_columns": null,
            "margin": null,
            "display": null,
            "left": null
          }
        },
        "4d2d3016186f460ea71e194195daf4c1": {
          "model_module": "@jupyter-widgets/controls",
          "model_name": "ProgressStyleModel",
          "model_module_version": "1.5.0",
          "state": {
            "_view_name": "StyleView",
            "_model_name": "ProgressStyleModel",
            "description_width": "",
            "_view_module": "@jupyter-widgets/base",
            "_model_module_version": "1.5.0",
            "_view_count": null,
            "_view_module_version": "1.2.0",
            "bar_color": null,
            "_model_module": "@jupyter-widgets/controls"
          }
        },
        "3bd05cebd0d24e578a7d64c1226041b9": {
          "model_module": "@jupyter-widgets/base",
          "model_name": "LayoutModel",
          "model_module_version": "1.2.0",
          "state": {
            "_view_name": "LayoutView",
            "grid_template_rows": null,
            "right": null,
            "justify_content": null,
            "_view_module": "@jupyter-widgets/base",
            "overflow": null,
            "_model_module_version": "1.2.0",
            "_view_count": null,
            "flex_flow": null,
            "width": "20px",
            "min_width": null,
            "border": null,
            "align_items": null,
            "bottom": null,
            "_model_module": "@jupyter-widgets/base",
            "top": null,
            "grid_column": null,
            "overflow_y": null,
            "overflow_x": null,
            "grid_auto_flow": null,
            "grid_area": null,
            "grid_template_columns": null,
            "flex": null,
            "_model_name": "LayoutModel",
            "justify_items": null,
            "grid_row": null,
            "max_height": null,
            "align_content": null,
            "visibility": null,
            "align_self": null,
            "height": null,
            "min_height": null,
            "padding": null,
            "grid_auto_rows": null,
            "grid_gap": null,
            "max_width": null,
            "order": null,
            "_view_module_version": "1.2.0",
            "grid_template_areas": null,
            "object_position": null,
            "object_fit": null,
            "grid_auto_columns": null,
            "margin": null,
            "display": null,
            "left": null
          }
        },
        "31b9b870ee2b4292b65d6ce3fc3120da": {
          "model_module": "@jupyter-widgets/controls",
          "model_name": "DescriptionStyleModel",
          "model_module_version": "1.5.0",
          "state": {
            "_view_name": "StyleView",
            "_model_name": "DescriptionStyleModel",
            "description_width": "",
            "_view_module": "@jupyter-widgets/base",
            "_model_module_version": "1.5.0",
            "_view_count": null,
            "_view_module_version": "1.2.0",
            "_model_module": "@jupyter-widgets/controls"
          }
        },
        "5ebc2b4cc1bf4b8c94d9535075f84212": {
          "model_module": "@jupyter-widgets/base",
          "model_name": "LayoutModel",
          "model_module_version": "1.2.0",
          "state": {
            "_view_name": "LayoutView",
            "grid_template_rows": null,
            "right": null,
            "justify_content": null,
            "_view_module": "@jupyter-widgets/base",
            "overflow": null,
            "_model_module_version": "1.2.0",
            "_view_count": null,
            "flex_flow": null,
            "width": null,
            "min_width": null,
            "border": null,
            "align_items": null,
            "bottom": null,
            "_model_module": "@jupyter-widgets/base",
            "top": null,
            "grid_column": null,
            "overflow_y": null,
            "overflow_x": null,
            "grid_auto_flow": null,
            "grid_area": null,
            "grid_template_columns": null,
            "flex": null,
            "_model_name": "LayoutModel",
            "justify_items": null,
            "grid_row": null,
            "max_height": null,
            "align_content": null,
            "visibility": null,
            "align_self": null,
            "height": null,
            "min_height": null,
            "padding": null,
            "grid_auto_rows": null,
            "grid_gap": null,
            "max_width": null,
            "order": null,
            "_view_module_version": "1.2.0",
            "grid_template_areas": null,
            "object_position": null,
            "object_fit": null,
            "grid_auto_columns": null,
            "margin": null,
            "display": null,
            "left": null
          }
        },
        "9882faa413cb4c1281ff2edae24ee057": {
          "model_module": "@jupyter-widgets/controls",
          "model_name": "HBoxModel",
          "model_module_version": "1.5.0",
          "state": {
            "_view_name": "HBoxView",
            "_dom_classes": [],
            "_model_name": "HBoxModel",
            "_view_module": "@jupyter-widgets/controls",
            "_model_module_version": "1.5.0",
            "_view_count": null,
            "_view_module_version": "1.5.0",
            "box_style": "",
            "layout": "IPY_MODEL_3fec36a183e14d5d88784aee13e56107",
            "_model_module": "@jupyter-widgets/controls",
            "children": [
              "IPY_MODEL_25290ba77a0d4e07bb978316629700b5",
              "IPY_MODEL_c393682fbaf849f7a3fb450c9dcaa3fb",
              "IPY_MODEL_5dc5e563a9714fdbb438b6d38b12089d"
            ]
          }
        },
        "3fec36a183e14d5d88784aee13e56107": {
          "model_module": "@jupyter-widgets/base",
          "model_name": "LayoutModel",
          "model_module_version": "1.2.0",
          "state": {
            "_view_name": "LayoutView",
            "grid_template_rows": null,
            "right": null,
            "justify_content": null,
            "_view_module": "@jupyter-widgets/base",
            "overflow": null,
            "_model_module_version": "1.2.0",
            "_view_count": null,
            "flex_flow": null,
            "width": null,
            "min_width": null,
            "border": null,
            "align_items": null,
            "bottom": null,
            "_model_module": "@jupyter-widgets/base",
            "top": null,
            "grid_column": null,
            "overflow_y": null,
            "overflow_x": null,
            "grid_auto_flow": null,
            "grid_area": null,
            "grid_template_columns": null,
            "flex": null,
            "_model_name": "LayoutModel",
            "justify_items": null,
            "grid_row": null,
            "max_height": null,
            "align_content": null,
            "visibility": null,
            "align_self": null,
            "height": null,
            "min_height": null,
            "padding": null,
            "grid_auto_rows": null,
            "grid_gap": null,
            "max_width": null,
            "order": null,
            "_view_module_version": "1.2.0",
            "grid_template_areas": null,
            "object_position": null,
            "object_fit": null,
            "grid_auto_columns": null,
            "margin": null,
            "display": null,
            "left": null
          }
        },
        "25290ba77a0d4e07bb978316629700b5": {
          "model_module": "@jupyter-widgets/controls",
          "model_name": "HTMLModel",
          "model_module_version": "1.5.0",
          "state": {
            "_view_name": "HTMLView",
            "style": "IPY_MODEL_b3c611defcde431a9169e223402b1bf6",
            "_dom_classes": [],
            "description": "",
            "_model_name": "HTMLModel",
            "placeholder": "​",
            "_view_module": "@jupyter-widgets/controls",
            "_model_module_version": "1.5.0",
            "value": "",
            "_view_count": null,
            "_view_module_version": "1.5.0",
            "description_tooltip": null,
            "_model_module": "@jupyter-widgets/controls",
            "layout": "IPY_MODEL_b3ec0e63b4ce4a8fac8274c0cd805005"
          }
        },
        "c393682fbaf849f7a3fb450c9dcaa3fb": {
          "model_module": "@jupyter-widgets/controls",
          "model_name": "FloatProgressModel",
          "model_module_version": "1.5.0",
          "state": {
            "_view_name": "ProgressView",
            "style": "IPY_MODEL_7abdc63a95b7400b8cf62b9e879a83e8",
            "_dom_classes": [],
            "description": "",
            "_model_name": "FloatProgressModel",
            "bar_style": "success",
            "max": 1,
            "_view_module": "@jupyter-widgets/controls",
            "_model_module_version": "1.5.0",
            "value": 1,
            "_view_count": null,
            "_view_module_version": "1.5.0",
            "orientation": "horizontal",
            "min": 0,
            "description_tooltip": null,
            "_model_module": "@jupyter-widgets/controls",
            "layout": "IPY_MODEL_512cd5d0850944d6b1b96c1d44a4d67d"
          }
        },
        "5dc5e563a9714fdbb438b6d38b12089d": {
          "model_module": "@jupyter-widgets/controls",
          "model_name": "HTMLModel",
          "model_module_version": "1.5.0",
          "state": {
            "_view_name": "HTMLView",
            "style": "IPY_MODEL_beef7dc678e74e4790bfeb551263e1e0",
            "_dom_classes": [],
            "description": "",
            "_model_name": "HTMLModel",
            "placeholder": "​",
            "_view_module": "@jupyter-widgets/controls",
            "_model_module_version": "1.5.0",
            "value": " 295/? [00:00&lt;00:00, 3903.46it/s]",
            "_view_count": null,
            "_view_module_version": "1.5.0",
            "description_tooltip": null,
            "_model_module": "@jupyter-widgets/controls",
            "layout": "IPY_MODEL_d73493dd3a2f4586b2d5631f6d247068"
          }
        },
        "b3c611defcde431a9169e223402b1bf6": {
          "model_module": "@jupyter-widgets/controls",
          "model_name": "DescriptionStyleModel",
          "model_module_version": "1.5.0",
          "state": {
            "_view_name": "StyleView",
            "_model_name": "DescriptionStyleModel",
            "description_width": "",
            "_view_module": "@jupyter-widgets/base",
            "_model_module_version": "1.5.0",
            "_view_count": null,
            "_view_module_version": "1.2.0",
            "_model_module": "@jupyter-widgets/controls"
          }
        },
        "b3ec0e63b4ce4a8fac8274c0cd805005": {
          "model_module": "@jupyter-widgets/base",
          "model_name": "LayoutModel",
          "model_module_version": "1.2.0",
          "state": {
            "_view_name": "LayoutView",
            "grid_template_rows": null,
            "right": null,
            "justify_content": null,
            "_view_module": "@jupyter-widgets/base",
            "overflow": null,
            "_model_module_version": "1.2.0",
            "_view_count": null,
            "flex_flow": null,
            "width": null,
            "min_width": null,
            "border": null,
            "align_items": null,
            "bottom": null,
            "_model_module": "@jupyter-widgets/base",
            "top": null,
            "grid_column": null,
            "overflow_y": null,
            "overflow_x": null,
            "grid_auto_flow": null,
            "grid_area": null,
            "grid_template_columns": null,
            "flex": null,
            "_model_name": "LayoutModel",
            "justify_items": null,
            "grid_row": null,
            "max_height": null,
            "align_content": null,
            "visibility": null,
            "align_self": null,
            "height": null,
            "min_height": null,
            "padding": null,
            "grid_auto_rows": null,
            "grid_gap": null,
            "max_width": null,
            "order": null,
            "_view_module_version": "1.2.0",
            "grid_template_areas": null,
            "object_position": null,
            "object_fit": null,
            "grid_auto_columns": null,
            "margin": null,
            "display": null,
            "left": null
          }
        },
        "7abdc63a95b7400b8cf62b9e879a83e8": {
          "model_module": "@jupyter-widgets/controls",
          "model_name": "ProgressStyleModel",
          "model_module_version": "1.5.0",
          "state": {
            "_view_name": "StyleView",
            "_model_name": "ProgressStyleModel",
            "description_width": "",
            "_view_module": "@jupyter-widgets/base",
            "_model_module_version": "1.5.0",
            "_view_count": null,
            "_view_module_version": "1.2.0",
            "bar_color": null,
            "_model_module": "@jupyter-widgets/controls"
          }
        },
        "512cd5d0850944d6b1b96c1d44a4d67d": {
          "model_module": "@jupyter-widgets/base",
          "model_name": "LayoutModel",
          "model_module_version": "1.2.0",
          "state": {
            "_view_name": "LayoutView",
            "grid_template_rows": null,
            "right": null,
            "justify_content": null,
            "_view_module": "@jupyter-widgets/base",
            "overflow": null,
            "_model_module_version": "1.2.0",
            "_view_count": null,
            "flex_flow": null,
            "width": "20px",
            "min_width": null,
            "border": null,
            "align_items": null,
            "bottom": null,
            "_model_module": "@jupyter-widgets/base",
            "top": null,
            "grid_column": null,
            "overflow_y": null,
            "overflow_x": null,
            "grid_auto_flow": null,
            "grid_area": null,
            "grid_template_columns": null,
            "flex": null,
            "_model_name": "LayoutModel",
            "justify_items": null,
            "grid_row": null,
            "max_height": null,
            "align_content": null,
            "visibility": null,
            "align_self": null,
            "height": null,
            "min_height": null,
            "padding": null,
            "grid_auto_rows": null,
            "grid_gap": null,
            "max_width": null,
            "order": null,
            "_view_module_version": "1.2.0",
            "grid_template_areas": null,
            "object_position": null,
            "object_fit": null,
            "grid_auto_columns": null,
            "margin": null,
            "display": null,
            "left": null
          }
        },
        "beef7dc678e74e4790bfeb551263e1e0": {
          "model_module": "@jupyter-widgets/controls",
          "model_name": "DescriptionStyleModel",
          "model_module_version": "1.5.0",
          "state": {
            "_view_name": "StyleView",
            "_model_name": "DescriptionStyleModel",
            "description_width": "",
            "_view_module": "@jupyter-widgets/base",
            "_model_module_version": "1.5.0",
            "_view_count": null,
            "_view_module_version": "1.2.0",
            "_model_module": "@jupyter-widgets/controls"
          }
        },
        "d73493dd3a2f4586b2d5631f6d247068": {
          "model_module": "@jupyter-widgets/base",
          "model_name": "LayoutModel",
          "model_module_version": "1.2.0",
          "state": {
            "_view_name": "LayoutView",
            "grid_template_rows": null,
            "right": null,
            "justify_content": null,
            "_view_module": "@jupyter-widgets/base",
            "overflow": null,
            "_model_module_version": "1.2.0",
            "_view_count": null,
            "flex_flow": null,
            "width": null,
            "min_width": null,
            "border": null,
            "align_items": null,
            "bottom": null,
            "_model_module": "@jupyter-widgets/base",
            "top": null,
            "grid_column": null,
            "overflow_y": null,
            "overflow_x": null,
            "grid_auto_flow": null,
            "grid_area": null,
            "grid_template_columns": null,
            "flex": null,
            "_model_name": "LayoutModel",
            "justify_items": null,
            "grid_row": null,
            "max_height": null,
            "align_content": null,
            "visibility": null,
            "align_self": null,
            "height": null,
            "min_height": null,
            "padding": null,
            "grid_auto_rows": null,
            "grid_gap": null,
            "max_width": null,
            "order": null,
            "_view_module_version": "1.2.0",
            "grid_template_areas": null,
            "object_position": null,
            "object_fit": null,
            "grid_auto_columns": null,
            "margin": null,
            "display": null,
            "left": null
          }
        }
      }
    }
  },
  "cells": [
    {
      "cell_type": "markdown",
      "metadata": {
        "id": "view-in-github",
        "colab_type": "text"
      },
      "source": [
        "<a href=\"https://colab.research.google.com/github/linkjavier/disco/blob/felipe/models/lstm_attention.ipynb\" target=\"_parent\"><img src=\"https://colab.research.google.com/assets/colab-badge.svg\" alt=\"Open In Colab\"/></a>"
      ]
    },
    {
      "cell_type": "markdown",
      "metadata": {
        "id": "GfUhxFjoXt1s"
      },
      "source": [
        "From book: Generative AI with Python and TensorFlow 2 By Joseph Babcock and Raghav Bali\n",
        "\n",
        "LSTM-Attention Model for Music Generation"
      ]
    },
    {
      "cell_type": "code",
      "metadata": {
        "id": "06JLsADgXhh4"
      },
      "source": [
        "import os\n",
        "import pickle\n",
        "import numpy as np\n",
        "from music21 import note, chord, converter, stream, instrument\n",
        "from tqdm.notebook import tqdm\n",
        "from tensorflow.keras.callbacks import ModelCheckpoint, EarlyStopping\n",
        "from tensorflow.keras.layers import *\n",
        "import tensorflow.keras.backend as K \n",
        "from tensorflow.keras.models import Model\n",
        "from tensorflow.keras.optimizers import Adam\n",
        "import matplotlib.pyplot as plt"
      ],
      "execution_count": 1,
      "outputs": []
    },
    {
      "cell_type": "code",
      "metadata": {
        "id": "BqXBOkSmX03a"
      },
      "source": [
        "\"\"\"\n",
        "Run this code if you have not saved \"until_179\" and \"180_to_295\"\n",
        "into a folder named \"pickle_folder\" in your Google Drive.\n",
        "This is to save time and RAM in future runs.\n",
        "\"\"\"\n",
        "!unzip '/content/drive/MyDrive/classical_music_midi_295.zip'"
      ],
      "execution_count": null,
      "outputs": []
    },
    {
      "cell_type": "code",
      "metadata": {
        "id": "Qpv2WHbiX3UC"
      },
      "source": [
        "\"\"\"\n",
        "Run this code if you have not saved \"until_179\"\n",
        "into a folder named \"pickle_folder\" in your Google Drive.\n",
        "This is to save time and RAM in future runs.\n",
        "\"\"\"\n",
        "data_dir = 'classical_music_midi_295'\n",
        "\n",
        "midi_list = os.listdir(data_dir)\n",
        "\n",
        "# Load and make list of stream objects\n",
        "original_scores = []\n",
        "for midi in tqdm(midi_list[:180]):\n",
        "    score = converter.parse(os.path.join(data_dir,midi))\n",
        "    original_scores.append(score)"
      ],
      "execution_count": null,
      "outputs": []
    },
    {
      "cell_type": "code",
      "metadata": {
        "id": "bbX0OGmZX6Jq"
      },
      "source": [
        "\"\"\"\n",
        "Run this code if you have not saved \"until_179\"\n",
        "into a folder named \"pickle_folder\" in your Google Drive.\n",
        "This is to save time and RAM in future runs.\n",
        "\"\"\"\n",
        "store_folder = 'parsed_data'\n",
        "\n",
        "if not os.path.exists(store_folder):\n",
        "    os.mkdir(store_folder)\n",
        "\n",
        "# Merge notes into chords\n",
        "\"\"\"\n",
        "Make chords out of non-chords. Chordify powerful tool for reducing a complex\n",
        "score with multiple parts to a succession of chords in one part that represent\n",
        "everything that is happening in the score.\n",
        "\"\"\"\n",
        "original_scores = [midi.chordify() for midi in tqdm(original_scores)]\n",
        "\n",
        "with open(os.path.join(store_folder, 'until_179'), 'wb') as f:\n",
        "    pickle.dump(original_scores, f)"
      ],
      "execution_count": null,
      "outputs": []
    },
    {
      "cell_type": "code",
      "metadata": {
        "id": "y9bPVXr-X9lT"
      },
      "source": [
        "\"\"\"\n",
        "Run this code if you have not saved \"180_to_295\"\n",
        "into a folder named \"pickle_folder\" in your Google Drive.\n",
        "This is to save time and RAM in future runs.\n",
        "\"\"\"\n",
        "data_dir = 'classical_music_midi_295'\n",
        "\n",
        "midi_list = os.listdir(data_dir)\n",
        "\n",
        "# Load and make list of stream objects\n",
        "original_scores = []\n",
        "for midi in tqdm(midi_list[180:295]):\n",
        "    score = converter.parse(os.path.join(data_dir,midi))\n",
        "    original_scores.append(score)"
      ],
      "execution_count": null,
      "outputs": []
    },
    {
      "cell_type": "code",
      "metadata": {
        "id": "qC9wop4vYDgq"
      },
      "source": [
        "\"\"\"\n",
        "Run this code if you have not saved \"180_to_295\"\n",
        "into a folder named \"pickle_folder\" in your Google Drive.\n",
        "This is to save time and RAM in future runs.\n",
        "\"\"\"\n",
        "store_folder = 'parsed_data'\n",
        "\n",
        "if not os.path.exists(store_folder):\n",
        "    os.mkdir(store_folder)\n",
        "\n",
        "# Merge notes into chords\n",
        "original_scores = [midi.chordify() for midi in tqdm(original_scores)]\n",
        "\n",
        "with open(os.path.join(store_folder, '180_to_295'), 'wb') as f:\n",
        "    pickle.dump(original_scores, f)"
      ],
      "execution_count": null,
      "outputs": []
    },
    {
      "cell_type": "code",
      "metadata": {
        "colab": {
          "base_uri": "https://localhost:8080/",
          "height": 49,
          "referenced_widgets": [
            "5c3094e1bb5f48528dba75354137d4f7",
            "e449014a7a04493a9ab366ab86ed55a9",
            "08bed945a85f4e25bcc4f0987f3b7e40",
            "722cfb8cd6df4c589848e6592cbeade0",
            "0c389bb8f3a747dfb14e62daefb5501c",
            "6ceb68ac120342aeba6c114eee52244f",
            "0cfc03aa6daa4fc1bf7cd0dc8f2db7f8",
            "57eb534a029c458fa8660d551bcbf71e",
            "3f0419e95bf440ce9d3761b7edce72c3",
            "d2918f7d08df4a4f96c28879a2747345",
            "90cfb96cbd6c40edb25af67a90c903aa"
          ]
        },
        "id": "4czhAseUYG2L",
        "outputId": "a8520a4f-6a04-4066-a178-a5094e983b6f"
      },
      "source": [
        "def piken():\n",
        "  \"\"\"\n",
        "  Save time and RAM consumption.\n",
        "  Returns: original scores from dataset\n",
        "  \"\"\"\n",
        "  original_scores = [] \n",
        "  path = 'drive/MyDrive/pickle_folder'\n",
        "  midi_list = os.listdir(path)\n",
        "  for file in tqdm(midi_list):\n",
        "    score = open('{}/{}'.format(path, file),'rb')\n",
        "    scores = pickle.load(score)\n",
        "    original_scores += scores\n",
        "  return original_scores\n",
        "\n",
        "original_scores = piken()"
      ],
      "execution_count": 2,
      "outputs": [
        {
          "output_type": "display_data",
          "data": {
            "application/vnd.jupyter.widget-view+json": {
              "model_id": "5c3094e1bb5f48528dba75354137d4f7",
              "version_minor": 0,
              "version_major": 2
            },
            "text/plain": [
              "  0%|          | 0/2 [00:00<?, ?it/s]"
            ]
          },
          "metadata": {}
        }
      ]
    },
    {
      "cell_type": "code",
      "metadata": {
        "colab": {
          "base_uri": "https://localhost:8080/",
          "height": 49,
          "referenced_widgets": [
            "ced15d01bc864b349b49033e4260acd4",
            "73accb61f3ba453eb3f6901109a32bba",
            "cb62cefad5684878b77a22b4d92043d3",
            "4e1db177533344fc9412927a40e4b8f0",
            "97e11035f0814ff0889d23ac84e77c0e",
            "62077cdd2bf44001aeacac4cc5524623",
            "dc9f78918e0d44709eef0ea44a7189ce",
            "4feffa2cbd05482bbf5cd6c409520f34",
            "b13933a5c39a47938c4734f9aaa8f7f9",
            "eb83f09e8e47451599d677c6e2442e2a",
            "e6394b14b32543d4b96805308ef0aaa3"
          ]
        },
        "id": "pl0DoAogYJzd",
        "outputId": "a78e8cf4-824f-4e6b-c521-1711ffc4e707"
      },
      "source": [
        "# Extract chords, durations, and keys\n",
        "original_chords = [[] for _ in original_scores]\n",
        "original_durations = [[] for _ in original_scores]\n",
        "original_keys = []\n",
        "\n",
        "for i, midi in tqdm(enumerate(original_scores)):\n",
        "    original_keys.append(str(midi.analyze('key')))\n",
        "    for element in midi:\n",
        "        if type(element) is note.Note:\n",
        "            original_chords[i].append(element.pitch)\n",
        "            original_durations[i].append(element.duration.quarterLength)\n",
        "        elif type(element) is chord.Chord:\n",
        "            original_chords[i].append('.'.join(str(n) for n in element.pitches))\n",
        "            original_durations[i].append(element.duration.quarterLength)"
      ],
      "execution_count": 3,
      "outputs": [
        {
          "output_type": "display_data",
          "data": {
            "application/vnd.jupyter.widget-view+json": {
              "model_id": "ced15d01bc864b349b49033e4260acd4",
              "version_minor": 0,
              "version_major": 2
            },
            "text/plain": [
              "0it [00:00, ?it/s]"
            ]
          },
          "metadata": {}
        }
      ]
    },
    {
      "cell_type": "code",
      "metadata": {
        "colab": {
          "base_uri": "https://localhost:8080/",
          "height": 81,
          "referenced_widgets": [
            "6f103c61b5c74d0589ef9644b40ad2f9",
            "658ec182e7304b96a21189f58bada4e0",
            "abb5103a6e1c4a69baa92bd0d4804ebe",
            "a068b4360d6a4018a89d90f21731da92",
            "116f9ca7d2484ef8bd47f0fb06d46238",
            "c1398c7bbd804c728e7c3c2eb2f4a0a1",
            "7549c4e5eb214e38afd6b1e53c35bbcd",
            "4d2d3016186f460ea71e194195daf4c1",
            "3bd05cebd0d24e578a7d64c1226041b9",
            "31b9b870ee2b4292b65d6ce3fc3120da",
            "5ebc2b4cc1bf4b8c94d9535075f84212",
            "9882faa413cb4c1281ff2edae24ee057",
            "3fec36a183e14d5d88784aee13e56107",
            "25290ba77a0d4e07bb978316629700b5",
            "c393682fbaf849f7a3fb450c9dcaa3fb",
            "5dc5e563a9714fdbb438b6d38b12089d",
            "b3c611defcde431a9169e223402b1bf6",
            "b3ec0e63b4ce4a8fac8274c0cd805005",
            "7abdc63a95b7400b8cf62b9e879a83e8",
            "512cd5d0850944d6b1b96c1d44a4d67d",
            "beef7dc678e74e4790bfeb551263e1e0",
            "d73493dd3a2f4586b2d5631f6d247068"
          ]
        },
        "id": "5l8Uq8aMYNG1",
        "outputId": "55263572-e1ee-4ef9-dcfc-4ff4ec14340e"
      },
      "source": [
        "# Lists of chords and durations from songs in C major\n",
        "major_chords = [c for (c, k) in tqdm(zip(original_chords, original_keys)) if (k == 'C major')]\n",
        "major_durations = [c for (c, k) in tqdm(zip(original_durations, original_keys)) if (k == 'C major')]"
      ],
      "execution_count": 4,
      "outputs": [
        {
          "output_type": "display_data",
          "data": {
            "application/vnd.jupyter.widget-view+json": {
              "model_id": "6f103c61b5c74d0589ef9644b40ad2f9",
              "version_minor": 0,
              "version_major": 2
            },
            "text/plain": [
              "0it [00:00, ?it/s]"
            ]
          },
          "metadata": {}
        },
        {
          "output_type": "display_data",
          "data": {
            "application/vnd.jupyter.widget-view+json": {
              "model_id": "9882faa413cb4c1281ff2edae24ee057",
              "version_minor": 0,
              "version_major": 2
            },
            "text/plain": [
              "0it [00:00, ?it/s]"
            ]
          },
          "metadata": {}
        }
      ]
    },
    {
      "cell_type": "code",
      "metadata": {
        "id": "3wdoVqs2YPi8"
      },
      "source": [
        "def get_distinct(elements):\n",
        "    # Get all pitch names\n",
        "    element_names = sorted(set(elements))\n",
        "    n_elements = len(element_names)\n",
        "    return (element_names, n_elements)\n",
        "\n",
        "def create_lookups(element_names):\n",
        "    # notes and durations to integers and vice versa\n",
        "    element_to_int = dict((element, number) for number, element in enumerate(element_names))\n",
        "    int_to_element = dict((number, element) for number, element in enumerate(element_names))\n",
        "\n",
        "    return (element_to_int, int_to_element)"
      ],
      "execution_count": 5,
      "outputs": []
    },
    {
      "cell_type": "code",
      "metadata": {
        "id": "cljwVwYbYSj7"
      },
      "source": [
        "# sets of notes and durations\n",
        "note_names, n_notes = get_distinct([n for chord in major_chords for n in chord])\n",
        "duration_names, n_durations = get_distinct([d for dur in major_durations for d in dur])"
      ],
      "execution_count": 6,
      "outputs": []
    },
    {
      "cell_type": "code",
      "metadata": {
        "id": "OXo68aRRYVfD"
      },
      "source": [
        "note_to_int, int_to_note = create_lookups(note_names)\n",
        "duration_to_int, int_to_duration = create_lookups(duration_names)"
      ],
      "execution_count": 7,
      "outputs": []
    },
    {
      "cell_type": "code",
      "metadata": {
        "id": "gIKAWWX5YZmd"
      },
      "source": [
        "# Set sequence length\n",
        "sequence_length = 32\n",
        "\n",
        "# train data\n",
        "train_chords = []\n",
        "train_durations = []\n",
        "# supervised learning\n",
        "target_chords = []\n",
        "target_durations = []\n",
        "\n",
        "# Build train and target sequences for chords and durations\n",
        "# Sliding window\n",
        "for s in range(len(major_chords)):\n",
        "    chord_list = [note_to_int[c] for c in major_chords[s]]\n",
        "    duration_list = [duration_to_int[d] for d in major_durations[s]]\n",
        "    for i in range(len(chord_list) - sequence_length):\n",
        "        train_chords.append(chord_list[i:i+sequence_length])\n",
        "        train_durations.append(duration_list[i:i+sequence_length])\n",
        "        target_chords.append(chord_list[i+1])\n",
        "        target_durations.append(duration_list[i+1])"
      ],
      "execution_count": 8,
      "outputs": []
    },
    {
      "cell_type": "code",
      "metadata": {
        "id": "i6qkWiWrYdm0"
      },
      "source": [
        "train_chords = np.array(train_chords)\n",
        "train_durations = np.array(train_durations)\n",
        "target_chords = np.array(target_chords)\n",
        "target_durations = np.array(target_durations)"
      ],
      "execution_count": 9,
      "outputs": []
    },
    {
      "cell_type": "code",
      "metadata": {
        "id": "rF8Xf2RRYgJd"
      },
      "source": [
        "def create_network(n_notes, n_durations, embed_size, rnn_units):\n",
        "\n",
        "    # two parallel inputs\n",
        "    notes_in = Input(shape = (None,))\n",
        "    durations_in = Input(shape = (None,))\n",
        "\n",
        "    x1 = Embedding(n_notes, embed_size)(notes_in)\n",
        "    x2 = Embedding(n_durations, embed_size)(durations_in) \n",
        "\n",
        "    x = Concatenate()([x1,x2])\n",
        "\n",
        "    x = LSTM(rnn_units, return_sequences=True)(x)\n",
        "\n",
        "    x = LSTM(rnn_units, return_sequences=True)(x)\n",
        "\n",
        "    # added LSTM layer to improve learning of long sequences\n",
        "    x = LSTM(rnn_units, return_sequences=True)(x)\n",
        "\n",
        "    # added LSTM layer to improve learning of long sequences\n",
        "    x = LSTM(rnn_units, return_sequences=True)(x)\n",
        "\n",
        "    # attention\n",
        "    e = Dense(1, activation='tanh')(x)\n",
        "    e = Reshape([-1])(e)\n",
        "    alpha = Activation('softmax')(e)\n",
        "\n",
        "    alpha_repeated = Permute([2, 1])(RepeatVector(rnn_units)(alpha))\n",
        "\n",
        "    c = Multiply()([x, alpha_repeated])\n",
        "    c = Lambda(lambda xin: K.sum(xin, axis=1), output_shape=(rnn_units,))(c)\n",
        "    \n",
        "    # two paralell outputs                                \n",
        "    notes_out = Dense(n_notes, activation = 'softmax', name = 'pitch')(c)\n",
        "    durations_out = Dense(n_durations, activation = 'softmax', name = 'duration')(c)\n",
        "   \n",
        "    model = Model([notes_in, durations_in], [notes_out, durations_out])\n",
        "    opt = optimizer=Adam()\n",
        "    model.compile(loss=['sparse_categorical_crossentropy', \n",
        "                        'sparse_categorical_crossentropy'], optimizer=opt)\n",
        "\n",
        "    return model"
      ],
      "execution_count": 10,
      "outputs": []
    },
    {
      "cell_type": "code",
      "metadata": {
        "id": "GpcNaB1rYjjJ"
      },
      "source": [
        "embed_size = 128\n",
        "rnn_units = 128"
      ],
      "execution_count": 11,
      "outputs": []
    },
    {
      "cell_type": "code",
      "metadata": {
        "id": "UF3ypx0EYnHl"
      },
      "source": [
        "model = create_network(n_notes, n_durations, embed_size, rnn_units)"
      ],
      "execution_count": 12,
      "outputs": []
    },
    {
      "cell_type": "code",
      "metadata": {
        "colab": {
          "base_uri": "https://localhost:8080/"
        },
        "id": "sunuQMtUYpy9",
        "outputId": "7853c6c0-8dbd-41c9-be0e-682a0bef9d77"
      },
      "source": [
        "model.summary()"
      ],
      "execution_count": 13,
      "outputs": [
        {
          "output_type": "stream",
          "name": "stdout",
          "text": [
            "Model: \"model\"\n",
            "__________________________________________________________________________________________________\n",
            "Layer (type)                    Output Shape         Param #     Connected to                     \n",
            "==================================================================================================\n",
            "input_1 (InputLayer)            [(None, None)]       0                                            \n",
            "__________________________________________________________________________________________________\n",
            "input_2 (InputLayer)            [(None, None)]       0                                            \n",
            "__________________________________________________________________________________________________\n",
            "embedding (Embedding)           (None, None, 128)    860800      input_1[0][0]                    \n",
            "__________________________________________________________________________________________________\n",
            "embedding_1 (Embedding)         (None, None, 128)    2688        input_2[0][0]                    \n",
            "__________________________________________________________________________________________________\n",
            "concatenate (Concatenate)       (None, None, 256)    0           embedding[0][0]                  \n",
            "                                                                 embedding_1[0][0]                \n",
            "__________________________________________________________________________________________________\n",
            "lstm (LSTM)                     (None, None, 128)    197120      concatenate[0][0]                \n",
            "__________________________________________________________________________________________________\n",
            "lstm_1 (LSTM)                   (None, None, 128)    131584      lstm[0][0]                       \n",
            "__________________________________________________________________________________________________\n",
            "lstm_2 (LSTM)                   (None, None, 128)    131584      lstm_1[0][0]                     \n",
            "__________________________________________________________________________________________________\n",
            "lstm_3 (LSTM)                   (None, None, 128)    131584      lstm_2[0][0]                     \n",
            "__________________________________________________________________________________________________\n",
            "dense (Dense)                   (None, None, 1)      129         lstm_3[0][0]                     \n",
            "__________________________________________________________________________________________________\n",
            "reshape (Reshape)               (None, None)         0           dense[0][0]                      \n",
            "__________________________________________________________________________________________________\n",
            "activation (Activation)         (None, None)         0           reshape[0][0]                    \n",
            "__________________________________________________________________________________________________\n",
            "repeat_vector (RepeatVector)    (None, 128, None)    0           activation[0][0]                 \n",
            "__________________________________________________________________________________________________\n",
            "permute (Permute)               (None, None, 128)    0           repeat_vector[0][0]              \n",
            "__________________________________________________________________________________________________\n",
            "multiply (Multiply)             (None, None, 128)    0           lstm_3[0][0]                     \n",
            "                                                                 permute[0][0]                    \n",
            "__________________________________________________________________________________________________\n",
            "lambda (Lambda)                 (None, 128)          0           multiply[0][0]                   \n",
            "__________________________________________________________________________________________________\n",
            "pitch (Dense)                   (None, 6725)         867525      lambda[0][0]                     \n",
            "__________________________________________________________________________________________________\n",
            "duration (Dense)                (None, 21)           2709        lambda[0][0]                     \n",
            "==================================================================================================\n",
            "Total params: 2,325,723\n",
            "Trainable params: 2,325,723\n",
            "Non-trainable params: 0\n",
            "__________________________________________________________________________________________________\n"
          ]
        }
      ]
    },
    {
      "cell_type": "code",
      "metadata": {
        "id": "FpH2OEFnYr-6"
      },
      "source": [
        "if not os.path.exists('outputs'):\n",
        "    os.mkdir('outputs')\n",
        "\n",
        "if not os.path.exists('outputs/weights'):\n",
        "    os.mkdir('outputs/weights')"
      ],
      "execution_count": 14,
      "outputs": []
    },
    {
      "cell_type": "code",
      "metadata": {
        "id": "7V5DNaUJYu4k"
      },
      "source": [
        "output_folder = 'outputs'\n",
        "weights_folder = os.path.join(output_folder, 'weights')\n",
        "\n",
        "checkpoint = ModelCheckpoint(\n",
        "    os.path.join(weights_folder, \"weights.h5\"),\n",
        "    monitor='loss',\n",
        "    verbose=0,\n",
        "    save_best_only=True,\n",
        "    mode='min'\n",
        ")\n",
        "\n",
        "early_stopping = EarlyStopping(\n",
        "    monitor='loss',\n",
        "    restore_best_weights=True,\n",
        "    patience = 5\n",
        ")\n",
        "\n",
        "callbacks_list = [\n",
        "    checkpoint,\n",
        "    early_stopping\n",
        " ]\n",
        "\n",
        "model.save_weights(os.path.join(weights_folder, \"weights.h5\"))"
      ],
      "execution_count": 15,
      "outputs": []
    },
    {
      "cell_type": "code",
      "metadata": {
        "colab": {
          "base_uri": "https://localhost:8080/"
        },
        "id": "qlJ8y48wYxs1",
        "outputId": "b33f86ae-6a23-45fd-b361-82f83b1c63d9"
      },
      "source": [
        "history = model.fit([train_chords, train_durations], \n",
        "                    [target_chords, target_durations],\n",
        "                    epochs=100, batch_size=128,\n",
        "                    callbacks=callbacks_list,\n",
        "                    shuffle=True\n",
        "                  )"
      ],
      "execution_count": 16,
      "outputs": [
        {
          "output_type": "stream",
          "name": "stdout",
          "text": [
            "Epoch 1/100\n",
            "262/262 [==============================] - 24s 46ms/step - loss: 8.4139 - pitch_loss: 7.6765 - duration_loss: 0.7374\n",
            "Epoch 2/100\n"
          ]
        },
        {
          "output_type": "stream",
          "name": "stderr",
          "text": [
            "/usr/local/lib/python3.7/dist-packages/keras/utils/generic_utils.py:497: CustomMaskWarning: Custom mask layers require a config and must override get_config. When loading, the custom mask layer must be passed to the custom_objects argument.\n",
            "  category=CustomMaskWarning)\n"
          ]
        },
        {
          "output_type": "stream",
          "name": "stdout",
          "text": [
            "262/262 [==============================] - 11s 43ms/step - loss: 7.2610 - pitch_loss: 6.8108 - duration_loss: 0.4502\n",
            "Epoch 3/100\n",
            "262/262 [==============================] - 11s 43ms/step - loss: 6.7171 - pitch_loss: 6.3587 - duration_loss: 0.3583\n",
            "Epoch 4/100\n",
            "262/262 [==============================] - 11s 43ms/step - loss: 6.1350 - pitch_loss: 5.9082 - duration_loss: 0.2268\n",
            "Epoch 5/100\n",
            "262/262 [==============================] - 11s 43ms/step - loss: 5.5186 - pitch_loss: 5.4095 - duration_loss: 0.1091\n",
            "Epoch 6/100\n",
            "262/262 [==============================] - 11s 43ms/step - loss: 5.0451 - pitch_loss: 4.9702 - duration_loss: 0.0749\n",
            "Epoch 7/100\n",
            "262/262 [==============================] - 11s 43ms/step - loss: 4.6707 - pitch_loss: 4.6089 - duration_loss: 0.0618\n",
            "Epoch 8/100\n",
            "262/262 [==============================] - 11s 43ms/step - loss: 4.2931 - pitch_loss: 4.2460 - duration_loss: 0.0471\n",
            "Epoch 9/100\n",
            "262/262 [==============================] - 11s 43ms/step - loss: 4.0369 - pitch_loss: 3.9888 - duration_loss: 0.0481\n",
            "Epoch 10/100\n",
            "262/262 [==============================] - 11s 43ms/step - loss: 3.7134 - pitch_loss: 3.6705 - duration_loss: 0.0429\n",
            "Epoch 11/100\n",
            "262/262 [==============================] - 11s 43ms/step - loss: 3.4303 - pitch_loss: 3.3900 - duration_loss: 0.0403\n",
            "Epoch 12/100\n",
            "262/262 [==============================] - 11s 43ms/step - loss: 3.2275 - pitch_loss: 3.1835 - duration_loss: 0.0440\n",
            "Epoch 13/100\n",
            "262/262 [==============================] - 11s 43ms/step - loss: 2.9005 - pitch_loss: 2.8659 - duration_loss: 0.0347\n",
            "Epoch 14/100\n",
            "262/262 [==============================] - 11s 44ms/step - loss: 2.7619 - pitch_loss: 2.7253 - duration_loss: 0.0367\n",
            "Epoch 15/100\n",
            "262/262 [==============================] - 11s 43ms/step - loss: 2.6040 - pitch_loss: 2.5590 - duration_loss: 0.0450\n",
            "Epoch 16/100\n",
            "262/262 [==============================] - 11s 43ms/step - loss: 2.4132 - pitch_loss: 2.3808 - duration_loss: 0.0324\n",
            "Epoch 17/100\n",
            "262/262 [==============================] - 11s 43ms/step - loss: 2.1802 - pitch_loss: 2.1530 - duration_loss: 0.0272\n",
            "Epoch 18/100\n",
            "262/262 [==============================] - 11s 43ms/step - loss: 2.0874 - pitch_loss: 2.0610 - duration_loss: 0.0264\n",
            "Epoch 19/100\n",
            "262/262 [==============================] - 11s 43ms/step - loss: 1.9573 - pitch_loss: 1.9261 - duration_loss: 0.0312\n",
            "Epoch 20/100\n",
            "262/262 [==============================] - 11s 43ms/step - loss: 1.7333 - pitch_loss: 1.7088 - duration_loss: 0.0245\n",
            "Epoch 21/100\n",
            "262/262 [==============================] - 11s 43ms/step - loss: 1.5935 - pitch_loss: 1.5724 - duration_loss: 0.0211\n",
            "Epoch 22/100\n",
            "262/262 [==============================] - 11s 43ms/step - loss: 1.4943 - pitch_loss: 1.4740 - duration_loss: 0.0203\n",
            "Epoch 23/100\n",
            "262/262 [==============================] - 11s 43ms/step - loss: 1.4334 - pitch_loss: 1.4137 - duration_loss: 0.0197\n",
            "Epoch 24/100\n",
            "262/262 [==============================] - 11s 43ms/step - loss: 1.3078 - pitch_loss: 1.2850 - duration_loss: 0.0228\n",
            "Epoch 25/100\n",
            "262/262 [==============================] - 11s 43ms/step - loss: 1.2330 - pitch_loss: 1.2142 - duration_loss: 0.0187\n",
            "Epoch 26/100\n",
            "262/262 [==============================] - 11s 43ms/step - loss: 1.1092 - pitch_loss: 1.0925 - duration_loss: 0.0167\n",
            "Epoch 27/100\n",
            "262/262 [==============================] - 11s 43ms/step - loss: 1.0197 - pitch_loss: 1.0007 - duration_loss: 0.0189\n",
            "Epoch 28/100\n",
            "262/262 [==============================] - 11s 43ms/step - loss: 1.0630 - pitch_loss: 1.0419 - duration_loss: 0.0211\n",
            "Epoch 29/100\n",
            "262/262 [==============================] - 11s 43ms/step - loss: 1.2355 - pitch_loss: 1.2032 - duration_loss: 0.0322\n",
            "Epoch 30/100\n",
            "262/262 [==============================] - 11s 43ms/step - loss: 0.9767 - pitch_loss: 0.9602 - duration_loss: 0.0166\n",
            "Epoch 31/100\n",
            "262/262 [==============================] - 11s 44ms/step - loss: 0.8259 - pitch_loss: 0.8088 - duration_loss: 0.0171\n",
            "Epoch 32/100\n",
            "262/262 [==============================] - 11s 44ms/step - loss: 0.7697 - pitch_loss: 0.7558 - duration_loss: 0.0138\n",
            "Epoch 33/100\n",
            "262/262 [==============================] - 11s 43ms/step - loss: 0.6858 - pitch_loss: 0.6749 - duration_loss: 0.0109\n",
            "Epoch 34/100\n",
            "262/262 [==============================] - 11s 43ms/step - loss: 0.6138 - pitch_loss: 0.6035 - duration_loss: 0.0102\n",
            "Epoch 35/100\n",
            "262/262 [==============================] - 11s 43ms/step - loss: 0.6223 - pitch_loss: 0.6117 - duration_loss: 0.0107\n",
            "Epoch 36/100\n",
            "262/262 [==============================] - 11s 44ms/step - loss: 0.4685 - pitch_loss: 0.4614 - duration_loss: 0.0071\n",
            "Epoch 37/100\n",
            "262/262 [==============================] - 11s 43ms/step - loss: 0.4495 - pitch_loss: 0.4411 - duration_loss: 0.0083\n",
            "Epoch 38/100\n",
            "262/262 [==============================] - 11s 43ms/step - loss: 0.4037 - pitch_loss: 0.3962 - duration_loss: 0.0075\n",
            "Epoch 39/100\n",
            "262/262 [==============================] - 11s 43ms/step - loss: 0.3911 - pitch_loss: 0.3835 - duration_loss: 0.0076\n",
            "Epoch 40/100\n",
            "262/262 [==============================] - 11s 43ms/step - loss: 0.3442 - pitch_loss: 0.3367 - duration_loss: 0.0075\n",
            "Epoch 41/100\n",
            "262/262 [==============================] - 11s 43ms/step - loss: 0.3433 - pitch_loss: 0.3369 - duration_loss: 0.0064\n",
            "Epoch 42/100\n",
            "262/262 [==============================] - 11s 43ms/step - loss: 0.2933 - pitch_loss: 0.2886 - duration_loss: 0.0047\n",
            "Epoch 43/100\n",
            "262/262 [==============================] - 11s 43ms/step - loss: 0.2909 - pitch_loss: 0.2843 - duration_loss: 0.0066\n",
            "Epoch 44/100\n",
            "262/262 [==============================] - 11s 43ms/step - loss: 0.3301 - pitch_loss: 0.3223 - duration_loss: 0.0077\n",
            "Epoch 45/100\n",
            "262/262 [==============================] - 11s 43ms/step - loss: 0.3586 - pitch_loss: 0.3485 - duration_loss: 0.0102\n",
            "Epoch 46/100\n",
            "262/262 [==============================] - 11s 43ms/step - loss: 0.2431 - pitch_loss: 0.2370 - duration_loss: 0.0061\n",
            "Epoch 47/100\n",
            "262/262 [==============================] - 11s 43ms/step - loss: 0.2525 - pitch_loss: 0.2435 - duration_loss: 0.0090\n",
            "Epoch 48/100\n",
            "262/262 [==============================] - 11s 43ms/step - loss: 0.1581 - pitch_loss: 0.1545 - duration_loss: 0.0036\n",
            "Epoch 49/100\n",
            "262/262 [==============================] - 11s 43ms/step - loss: 0.1970 - pitch_loss: 0.1904 - duration_loss: 0.0065\n",
            "Epoch 50/100\n",
            "262/262 [==============================] - 11s 43ms/step - loss: 0.1599 - pitch_loss: 0.1554 - duration_loss: 0.0045\n",
            "Epoch 51/100\n",
            "262/262 [==============================] - 11s 43ms/step - loss: 0.1469 - pitch_loss: 0.1416 - duration_loss: 0.0053\n",
            "Epoch 52/100\n",
            "262/262 [==============================] - 11s 43ms/step - loss: 0.1141 - pitch_loss: 0.1109 - duration_loss: 0.0031\n",
            "Epoch 53/100\n",
            "262/262 [==============================] - 11s 43ms/step - loss: 0.1608 - pitch_loss: 0.1557 - duration_loss: 0.0052\n",
            "Epoch 54/100\n",
            "262/262 [==============================] - 11s 43ms/step - loss: 0.1349 - pitch_loss: 0.1312 - duration_loss: 0.0037\n",
            "Epoch 55/100\n",
            "262/262 [==============================] - 11s 43ms/step - loss: 0.1462 - pitch_loss: 0.1414 - duration_loss: 0.0048\n",
            "Epoch 56/100\n",
            "262/262 [==============================] - 11s 43ms/step - loss: 0.1082 - pitch_loss: 0.1052 - duration_loss: 0.0030\n",
            "Epoch 57/100\n",
            "262/262 [==============================] - 11s 43ms/step - loss: 0.0833 - pitch_loss: 0.0798 - duration_loss: 0.0035\n",
            "Epoch 58/100\n",
            "262/262 [==============================] - 11s 44ms/step - loss: 0.0775 - pitch_loss: 0.0743 - duration_loss: 0.0032\n",
            "Epoch 59/100\n",
            "262/262 [==============================] - 11s 44ms/step - loss: 0.1072 - pitch_loss: 0.1027 - duration_loss: 0.0045\n",
            "Epoch 60/100\n",
            "262/262 [==============================] - 11s 43ms/step - loss: 0.1807 - pitch_loss: 0.1714 - duration_loss: 0.0093\n",
            "Epoch 61/100\n",
            "262/262 [==============================] - 11s 43ms/step - loss: 0.1029 - pitch_loss: 0.0976 - duration_loss: 0.0053\n",
            "Epoch 62/100\n",
            "262/262 [==============================] - 11s 43ms/step - loss: 0.0679 - pitch_loss: 0.0641 - duration_loss: 0.0039\n",
            "Epoch 63/100\n",
            "262/262 [==============================] - 11s 43ms/step - loss: 0.1111 - pitch_loss: 0.1060 - duration_loss: 0.0051\n",
            "Epoch 64/100\n",
            "262/262 [==============================] - 11s 43ms/step - loss: 0.0952 - pitch_loss: 0.0924 - duration_loss: 0.0028\n",
            "Epoch 65/100\n",
            "262/262 [==============================] - 11s 44ms/step - loss: 0.0710 - pitch_loss: 0.0676 - duration_loss: 0.0034\n",
            "Epoch 66/100\n",
            "262/262 [==============================] - 11s 43ms/step - loss: 0.0951 - pitch_loss: 0.0914 - duration_loss: 0.0038\n",
            "Epoch 67/100\n",
            "262/262 [==============================] - 11s 43ms/step - loss: 0.0583 - pitch_loss: 0.0553 - duration_loss: 0.0030\n",
            "Epoch 68/100\n",
            "262/262 [==============================] - 11s 43ms/step - loss: 0.0329 - pitch_loss: 0.0314 - duration_loss: 0.0015\n",
            "Epoch 69/100\n",
            "262/262 [==============================] - 11s 43ms/step - loss: 0.0229 - pitch_loss: 0.0222 - duration_loss: 7.2646e-04\n",
            "Epoch 70/100\n",
            "262/262 [==============================] - 11s 43ms/step - loss: 0.0192 - pitch_loss: 0.0184 - duration_loss: 8.4212e-04\n",
            "Epoch 71/100\n",
            "262/262 [==============================] - 11s 43ms/step - loss: 0.0135 - pitch_loss: 0.0130 - duration_loss: 4.8344e-04\n",
            "Epoch 72/100\n",
            "262/262 [==============================] - 11s 43ms/step - loss: 0.0117 - pitch_loss: 0.0112 - duration_loss: 4.9442e-04\n",
            "Epoch 73/100\n",
            "262/262 [==============================] - 11s 44ms/step - loss: 0.0306 - pitch_loss: 0.0287 - duration_loss: 0.0019\n",
            "Epoch 74/100\n",
            "262/262 [==============================] - 11s 44ms/step - loss: 0.5139 - pitch_loss: 0.4881 - duration_loss: 0.0258\n",
            "Epoch 75/100\n",
            "262/262 [==============================] - 11s 43ms/step - loss: 0.2864 - pitch_loss: 0.2733 - duration_loss: 0.0130\n",
            "Epoch 76/100\n",
            "262/262 [==============================] - 11s 44ms/step - loss: 0.0781 - pitch_loss: 0.0751 - duration_loss: 0.0030\n",
            "Epoch 77/100\n",
            "262/262 [==============================] - 11s 43ms/step - loss: 0.0401 - pitch_loss: 0.0383 - duration_loss: 0.0017\n"
          ]
        }
      ]
    },
    {
      "cell_type": "code",
      "metadata": {
        "colab": {
          "base_uri": "https://localhost:8080/",
          "height": 294
        },
        "id": "jneaRgrrY32Q",
        "outputId": "d1d4cc49-85a7-4612-d1a0-44e37e3f4c6b"
      },
      "source": [
        "# https://www.pluralsight.com/guides/data-visualization-deep-learning-model-using-matplotlib\n",
        "pitch_loss = history.history['pitch_loss']\n",
        "duration_loss = history.history['duration_loss']\n",
        "\n",
        "# set 'epochs' according to the above result\n",
        "epochs = 77\n",
        "epochs = range(epochs)\n",
        "plt.plot(epochs, pitch_loss, 'g', label='Pitch loss')\n",
        "plt.plot(epochs, duration_loss, 'b', label='Duration loss')\n",
        "plt.title('pitch and duration loss')\n",
        "plt.xlabel('Epochs')\n",
        "plt.ylabel('Loss')\n",
        "plt.legend()\n",
        "plt.show()"
      ],
      "execution_count": 17,
      "outputs": [
        {
          "output_type": "display_data",
          "data": {
            "image/png": "[encoded data removed]",
            "text/plain": [
              "<Figure size 432x288 with 1 Axes>"
            ]
          },
          "metadata": {
            "image/png": {
              "width": 376,
              "height": 277
            },
            "needs_background": "light"
          }
        }
      ]
    },
    {
      "cell_type": "code",
      "metadata": {
        "id": "qboa3M1YY4md"
      },
      "source": [
        "\"\"\"\n",
        "Too much randomness in the output is not good, as it can lead to incoherent\n",
        "results.\n",
        "\n",
        "Temperature is a tunable parameter to control the amount of randomness.\n",
        "Temperature helps to increase the likelihood of high probability terms while\n",
        "reducing the likelihood of low probability ones. High temperature leads to more\n",
        "randomness, while lower temperature brings in predictability.\n",
        "\"\"\"\n",
        "def sample_with_temp(preds, temperature):\n",
        "\n",
        "    if temperature == 0:\n",
        "        return np.argmax(preds)\n",
        "    else:\n",
        "        preds = np.log(preds) / temperature\n",
        "        exp_preds = np.exp(preds)\n",
        "        preds = exp_preds / np.sum(exp_preds)\n",
        "        return np.random.choice(len(preds), p=preds)"
      ],
      "execution_count": 18,
      "outputs": []
    },
    {
      "cell_type": "code",
      "metadata": {
        "id": "nIxZbluaY-Pj"
      },
      "source": [
        "# chord and duration sequences\n",
        "initial_chords = np.expand_dims(train_chords[0,:].copy(), 0)\n",
        "initial_durations = np.expand_dims(train_durations[0,:].copy(), 0)"
      ],
      "execution_count": 19,
      "outputs": []
    },
    {
      "cell_type": "code",
      "metadata": {
        "colab": {
          "base_uri": "https://localhost:8080/"
        },
        "id": "rNqcR4hRY_Me",
        "outputId": "a593b3a8-ee4c-45c0-ccf3-a25cae8513c7"
      },
      "source": [
        "initial_chords"
      ],
      "execution_count": 20,
      "outputs": [
        {
          "output_type": "execute_result",
          "data": {
            "text/plain": [
              "array([[1647, 1647, 1647, 1647, 1647, 1647, 1376, 2644, 3602, 4645, 3602,\n",
              "        2644, 2644, 2644, 2644, 2644, 2644, 3268, 3602, 4242, 5992,  101,\n",
              "         626,  626,  626, 1376, 1376,  101,  101,  101, 1647, 1647]])"
            ]
          },
          "metadata": {},
          "execution_count": 20
        }
      ]
    },
    {
      "cell_type": "code",
      "metadata": {
        "colab": {
          "base_uri": "https://localhost:8080/"
        },
        "id": "tx8NS6OIZBTT",
        "outputId": "93fd6776-0ae4-43bf-aed0-f878b48a1d85"
      },
      "source": [
        "initial_durations"
      ],
      "execution_count": 21,
      "outputs": [
        {
          "output_type": "execute_result",
          "data": {
            "text/plain": [
              "array([[ 8,  2,  2,  8,  2,  2,  2, 11,  2,  2,  2,  8,  2,  2,  8,  2,\n",
              "         2,  2, 11,  2,  2,  2,  8,  2,  2, 11,  2,  8,  2,  2, 11,  2]])"
            ]
          },
          "metadata": {},
          "execution_count": 21
        }
      ]
    },
    {
      "cell_type": "code",
      "metadata": {
        "id": "66L_meSgZDuX"
      },
      "source": [
        "# Predict chords and durations\n",
        "def predict_chords(chord_sequence, duration_sequence, model, temperature):\n",
        "    predicted_chords, predicted_durations = model.predict([chord_sequence,\n",
        "                                                           duration_sequence])\n",
        "    return sample_with_temp(predicted_chords[0], temperature), sample_with_temp(predicted_durations[0], temperature)"
      ],
      "execution_count": 22,
      "outputs": []
    },
    {
      "cell_type": "code",
      "metadata": {
        "colab": {
          "base_uri": "https://localhost:8080/"
        },
        "id": "mxT6nMwRZG4k",
        "outputId": "36923b38-3e27-4578-addf-29b8cf6118ea"
      },
      "source": [
        "# Generated chords and durations\n",
        "new_chords, new_durations = [], []\n",
        "\n",
        "# Generate chords and durations using 60 rounds of prediction\n",
        "for j in range(60):\n",
        "    new_chord, new_duration = predict_chords(initial_chords, \n",
        "                                             initial_durations,\n",
        "                                             model,\n",
        "                                             temperature=0.8)\n",
        "    new_chords.append(new_chord)\n",
        "    new_durations.append(new_duration)\n",
        "    initial_chords[0][:-1] = initial_chords[0][1:]\n",
        "    initial_chords[0][-1] = new_chord\n",
        "    initial_durations[0][:-1] = initial_durations[0][1:]\n",
        "    initial_durations[0][-1] = new_duration\n",
        "\n",
        "print(\"new_chords\", new_chords)\n",
        "print(\"new_durations\", new_durations)"
      ],
      "execution_count": 23,
      "outputs": [
        {
          "output_type": "stream",
          "name": "stdout",
          "text": [
            "new_chords [1647, 1647, 1647, 1647, 1647, 1376, 2644, 3602, 4645, 3602, 2644, 2644, 2644, 2644, 2644, 2644, 3268, 3602, 4242, 5992, 101, 626, 626, 626, 1376, 1376, 101, 101, 101, 1647, 1647, 1647, 1647, 1647, 1647, 1647, 1376, 2644, 3602, 4645, 3602, 2644, 2644, 2644, 2644, 2644, 2644, 3268, 3602, 4242, 5992, 101, 626, 626, 626, 1376, 1376, 101, 101, 101]\n",
            "new_durations [2, 2, 8, 2, 2, 2, 11, 2, 2, 2, 8, 2, 2, 8, 2, 2, 2, 11, 2, 2, 2, 8, 2, 2, 11, 2, 8, 2, 2, 11, 2, 2, 2, 8, 2, 2, 2, 11, 2, 2, 2, 8, 2, 2, 8, 2, 2, 2, 11, 2, 2, 2, 8, 2, 2, 11, 2, 8, 2, 2]\n"
          ]
        }
      ]
    },
    {
      "cell_type": "code",
      "metadata": {
        "colab": {
          "base_uri": "https://localhost:8080/",
          "height": 35
        },
        "id": "AZPZyDOnZJo-",
        "outputId": "dd073649-ce45-47a1-c603-c515a12bf495"
      },
      "source": [
        "# Create stream object\n",
        "generated_stream = stream.Stream()\n",
        "generated_stream.append(instrument.Piano())\n",
        "\n",
        "# Add notes and durations to stream\n",
        "for j in range(len(new_chords)):\n",
        "    try:\n",
        "        generated_stream.append(note.Note(int_to_note[new_chords[j]].replace('.', ' '), \n",
        "                                          quarterType = int_to_duration[new_durations[j]]))\n",
        "    except:\n",
        "        generated_stream.append(chord.Chord(int_to_note[new_chords[j]].replace('.', ' '), \n",
        "                                            quarterType = int_to_duration[new_durations[j]]))\n",
        "\n",
        "# Export as MIDI file\n",
        "generated_stream.write('midi', fp='lstm_att_adam_295_midi_1.mid')"
      ],
      "execution_count": 24,
      "outputs": [
        {
          "output_type": "execute_result",
          "data": {
            "application/vnd.google.colaboratory.intrinsic+json": {
              "type": "string"
            },
            "text/plain": [
              "'lstm_att_adam_295_midi_1.mid'"
            ]
          },
          "metadata": {},
          "execution_count": 24
        }
      ]
    }
  ]
}